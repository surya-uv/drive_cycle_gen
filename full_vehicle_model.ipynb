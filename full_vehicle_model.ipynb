{
 "cells": [
  {
   "attachments": {},
   "cell_type": "markdown",
   "metadata": {},
   "source": [
    "# Full vehicle model"
   ]
  },
  {
   "cell_type": "code",
   "execution_count": 1,
   "metadata": {},
   "outputs": [],
   "source": [
    "import numpy as np\n",
    "import pandas as pd\n",
    "import math\n",
    "import scipy\n",
    "import matplotlib.pyplot as plt\n",
    "import seaborn as sns\n",
    "import plotly.graph_objects as go\n"
   ]
  },
  {
   "cell_type": "code",
   "execution_count": 2,
   "metadata": {},
   "outputs": [],
   "source": [
    "plt.rcParams['figure.figsize'] = [20, 4]"
   ]
  },
  {
   "attachments": {},
   "cell_type": "markdown",
   "metadata": {},
   "source": [
    "## Drive cycle import"
   ]
  },
  {
   "cell_type": "code",
   "execution_count": 3,
   "metadata": {},
   "outputs": [],
   "source": [
    "# df_drivecycle = pd.read_excel(r'drive_cycles\\drive_cycle_itr4.xlsx', sheet_name = 'itr4_avg')\n",
    "# df_drivecycle = pd.read_excel(r'drive_cycles\\Standard_DC.xlsx', sheet_name = 'SAE J2982')\n",
    "# df_drivecycle = pd.read_excel(r'drive_cycles\\Standard_DC.xlsx', sheet_name = 'WMTC_reduced_p3')\n",
    "# df_drivecycle = pd.read_excel(r'drive_cycles\\Standard_DC.xlsx', sheet_name = 'WMTC')\n",
    "df_drivecycle = pd.read_excel(r'drive_cycles\\Standard_DC.xlsx', sheet_name = 'IDC')"
   ]
  },
  {
   "cell_type": "code",
   "execution_count": 4,
   "metadata": {},
   "outputs": [
    {
     "data": {
      "text/plain": [
       "Index(['time_s', 'avg_speed_kmph', 'avg_accn_mps2'], dtype='object')"
      ]
     },
     "execution_count": 4,
     "metadata": {},
     "output_type": "execute_result"
    }
   ],
   "source": [
    "df_drivecycle.columns"
   ]
  },
  {
   "cell_type": "code",
   "execution_count": 5,
   "metadata": {},
   "outputs": [],
   "source": [
    "'''code to get the acceleration numbers out'''\n",
    "time_s_orig = df_drivecycle.time_s.to_numpy()\n",
    "speed_kmph_orig = df_drivecycle.avg_speed_kmph.to_numpy()\n",
    "diff_interp = [((speed_kmph_orig[i+1]-speed_kmph_orig[i-1])/3.6)/(time_s_orig[i+1]-time_s_orig[i-1]) for i in np.arange(1,len(time_s_orig)-1)]\n",
    "accn_interp = np.insert(diff_interp,0,0)\n",
    "accn_interp = np.append(accn_interp,0)\n",
    "df_drivecycle['avg_accn_mps2'] = accn_interp"
   ]
  },
  {
   "cell_type": "code",
   "execution_count": 333,
   "metadata": {},
   "outputs": [
    {
     "data": {
      "text/plain": [
       "'for WMTC runs only to segregate parts'"
      ]
     },
     "execution_count": 333,
     "metadata": {},
     "output_type": "execute_result"
    }
   ],
   "source": [
    "'''for WMTC runs only to segregate parts'''\n",
    "#0-601 - part 1, 601-1201 - part 2, 1201-1800 - part 3 \n",
    "# df_drivecycle = df_drivecycle.iloc[0:1201] "
   ]
  },
  {
   "cell_type": "code",
   "execution_count": 334,
   "metadata": {},
   "outputs": [],
   "source": [
    "df_drivecycle = pd.read_csv(r'drive_cycles\\Buttonwillow_filtered.csv')"
   ]
  },
  {
   "cell_type": "code",
   "execution_count": 335,
   "metadata": {},
   "outputs": [
    {
     "data": {
      "text/plain": [
       "Index(['time_s', 'speed_mph'], dtype='object')"
      ]
     },
     "execution_count": 335,
     "metadata": {},
     "output_type": "execute_result"
    }
   ],
   "source": [
    "df_drivecycle.columns"
   ]
  },
  {
   "cell_type": "code",
   "execution_count": 336,
   "metadata": {},
   "outputs": [
    {
     "data": {
      "application/vnd.plotly.v1+json": {
       "config": {
        "plotlyServerURL": "https://plot.ly"
       },
       "data": [
        {
         "hovertemplate": "time_s=%{x}<br>speed_mph=%{y}<extra></extra>",
         "legendgroup": "",
         "line": {
          "color": "#636efa",
          "dash": "solid"
         },
         "marker": {
          "symbol": "circle"
         },
         "mode": "lines",
         "name": "",
         "orientation": "v",
         "showlegend": false,
         "type": "scatter",
         "x": [
          0,
          1,
          2,
          3,
          4,
          5,
          6,
          7,
          8,
          9,
          10,
          11,
          12,
          13,
          14,
          15,
          16,
          17,
          18,
          19,
          20,
          21,
          22,
          23,
          24,
          25,
          26,
          27,
          28,
          29,
          30,
          31,
          32,
          33,
          34,
          35,
          36,
          37,
          38,
          39,
          40,
          41,
          42,
          43,
          44,
          45,
          46,
          47,
          48,
          49,
          50,
          51,
          52,
          53,
          54,
          55,
          56,
          57,
          58,
          59,
          60,
          61,
          62,
          63,
          64,
          65,
          66,
          67,
          68,
          69,
          70,
          71,
          72,
          73,
          74,
          75,
          76,
          77,
          78,
          79,
          80,
          81,
          82,
          83,
          84,
          85,
          86,
          87,
          88,
          89,
          90,
          91,
          92,
          93,
          94,
          95,
          96,
          97,
          98,
          99,
          100,
          101,
          102,
          103,
          104,
          105,
          106,
          107,
          108,
          109,
          110,
          111,
          112,
          113,
          114,
          115,
          116,
          117,
          118,
          119,
          120,
          121,
          122,
          123,
          124,
          125,
          126,
          127,
          128,
          129,
          130,
          131,
          132,
          133,
          134,
          135,
          136,
          137,
          138,
          139,
          140,
          141,
          142,
          143,
          144,
          145,
          146,
          147,
          148,
          149,
          150,
          151,
          152,
          153,
          154,
          155,
          156,
          157,
          158,
          159,
          160,
          161,
          162,
          163,
          164,
          165,
          166,
          167,
          168,
          169,
          170,
          171,
          172,
          173,
          174,
          175,
          176,
          177,
          178,
          179,
          180,
          181,
          182,
          183,
          184,
          185,
          186,
          187,
          188,
          189,
          190,
          191,
          192,
          193,
          194,
          195,
          196,
          197,
          198,
          199,
          200,
          201,
          202,
          203,
          204,
          205,
          206,
          207,
          208,
          209,
          210,
          211,
          212,
          213,
          214,
          215,
          216,
          217,
          218,
          219,
          220,
          221,
          222,
          223,
          224,
          225,
          226,
          227,
          228,
          229,
          230,
          231,
          232,
          233,
          234,
          235,
          236,
          237,
          238,
          239,
          240,
          241,
          242,
          243,
          244,
          245,
          246,
          247,
          248,
          249,
          250,
          251,
          252,
          253,
          254,
          255,
          256,
          257,
          258,
          259,
          260,
          261,
          262,
          263,
          264,
          265,
          266,
          267,
          268,
          269,
          270,
          271,
          272,
          273,
          274,
          275,
          276,
          277,
          278,
          279,
          280,
          281,
          282,
          283,
          284,
          285,
          286,
          287,
          288,
          289,
          290,
          291,
          292,
          293,
          294,
          295,
          296,
          297,
          298,
          299,
          300,
          301,
          302,
          303,
          304,
          305,
          306,
          307,
          308,
          309,
          310,
          311,
          312,
          313,
          314,
          315,
          316,
          317,
          318,
          319,
          320,
          321,
          322,
          323,
          324,
          325,
          326,
          327,
          328,
          329,
          330,
          331,
          332,
          333,
          334,
          335,
          336,
          337,
          338,
          339,
          340,
          341,
          342,
          343,
          344,
          345,
          346,
          347,
          348,
          349,
          350,
          351,
          352,
          353,
          354,
          355,
          356,
          357,
          358,
          359,
          360,
          361,
          362,
          363,
          364,
          365,
          366,
          367,
          368,
          369,
          370,
          371,
          372,
          373,
          374,
          375,
          376,
          377,
          378,
          379,
          380,
          381,
          382,
          383,
          384,
          385,
          386,
          387,
          388,
          389,
          390,
          391,
          392,
          393,
          394,
          395,
          396,
          397,
          398,
          399,
          400,
          401,
          402,
          403,
          404,
          405,
          406,
          407,
          408,
          409,
          410,
          411,
          412,
          413,
          414,
          415,
          416,
          417,
          418,
          419,
          420,
          421,
          422,
          423,
          424,
          425,
          426,
          427,
          428,
          429,
          430,
          431,
          432,
          433,
          434,
          435,
          436,
          437,
          438,
          439,
          440,
          441,
          442,
          443,
          444,
          445,
          446,
          447,
          448,
          449,
          450,
          451,
          452,
          453,
          454,
          455,
          456,
          457,
          458,
          459,
          460,
          461,
          462,
          463,
          464,
          465,
          466,
          467,
          468,
          469,
          470,
          471,
          472,
          473,
          474,
          475,
          476,
          477,
          478,
          479,
          480,
          481,
          482,
          483,
          484,
          485,
          486,
          487,
          488,
          489,
          490,
          491,
          492,
          493,
          494,
          495,
          496,
          497,
          498,
          499,
          500,
          501,
          502,
          503,
          504,
          505,
          506,
          507,
          508,
          509,
          510,
          511,
          512,
          513,
          514,
          515,
          516,
          517,
          518,
          519,
          520,
          521,
          522,
          523,
          524,
          525,
          526,
          527,
          528,
          529,
          530,
          531,
          532,
          533,
          534,
          535,
          536,
          537,
          538,
          539,
          540,
          541,
          542,
          543,
          544,
          545,
          546,
          547,
          548,
          549,
          550,
          551,
          552,
          553,
          554,
          555,
          556,
          557,
          558,
          559,
          560,
          561,
          562,
          563,
          564,
          565,
          566,
          567,
          568,
          569,
          570,
          571,
          572,
          573,
          574,
          575,
          576,
          577,
          578,
          579,
          580,
          581,
          582,
          583,
          584,
          585,
          586,
          587,
          588,
          589,
          590,
          591,
          592,
          593,
          594,
          595,
          596,
          597,
          598,
          599,
          600,
          601,
          602,
          603,
          604,
          605,
          606,
          607,
          608,
          609,
          610,
          611,
          612,
          613,
          614,
          615,
          616,
          617,
          618,
          619,
          620,
          621,
          622,
          623,
          624,
          625,
          626,
          627,
          628,
          629,
          630,
          631,
          632,
          633,
          634,
          635,
          636,
          637,
          638,
          639,
          640,
          641,
          642,
          643,
          644,
          645,
          646,
          647,
          648,
          649,
          650,
          651,
          652,
          653,
          654,
          655,
          656,
          657,
          658,
          659,
          660,
          661,
          662,
          663,
          664,
          665,
          666,
          667,
          668,
          669,
          670,
          671,
          672,
          673,
          674,
          675,
          676,
          677,
          678,
          679,
          680,
          681,
          682,
          683,
          684,
          685,
          686,
          687,
          688,
          689,
          690,
          691,
          692,
          693,
          694,
          695,
          696,
          697,
          698,
          699,
          700,
          701
         ],
         "xaxis": "x",
         "y": [
          0,
          0,
          0,
          0,
          0,
          0,
          0,
          0,
          0,
          0,
          2,
          19,
          36,
          55,
          69,
          81,
          93,
          97,
          88,
          75,
          63,
          55,
          50,
          63,
          74,
          86,
          94,
          82,
          64,
          50,
          40,
          33,
          34,
          40,
          51,
          66,
          79,
          88,
          101,
          110,
          105,
          87,
          73,
          63,
          54,
          55,
          55,
          48,
          57,
          59,
          54,
          65,
          73,
          69,
          69,
          78,
          87,
          96,
          93,
          91,
          94,
          93,
          91,
          87,
          92,
          92,
          80,
          70,
          74,
          84,
          94,
          95,
          101,
          107,
          101,
          97,
          94,
          93,
          92,
          93,
          101,
          109,
          104,
          105,
          110,
          110,
          93,
          79,
          70,
          68,
          76,
          87,
          97,
          105,
          113,
          119,
          112,
          96,
          83,
          73,
          66,
          61,
          61,
          62,
          65,
          60,
          65,
          78,
          91,
          100,
          109,
          109,
          105,
          102,
          110,
          120,
          127,
          119,
          98,
          81,
          67,
          59,
          55,
          63,
          79,
          94,
          105,
          114,
          122,
          129,
          134,
          131,
          110,
          87,
          68,
          58,
          57,
          68,
          80,
          93,
          101,
          83,
          65,
          48,
          36,
          30,
          36,
          49,
          69,
          75,
          86,
          98,
          110,
          112,
          91,
          76,
          65,
          56,
          55,
          55,
          50,
          54,
          62,
          57,
          64,
          73,
          69,
          68,
          79,
          89,
          98,
          98,
          95,
          95,
          95,
          86,
          89,
          96,
          89,
          78,
          66,
          72,
          86,
          97,
          98,
          102,
          107,
          104,
          100,
          95,
          92,
          92,
          94,
          102,
          109,
          107,
          107,
          113,
          105,
          91,
          79,
          70,
          69,
          79,
          88,
          102,
          110,
          117,
          120,
          111,
          96,
          82,
          71,
          67,
          61,
          62,
          63,
          64,
          60,
          66,
          80,
          92,
          102,
          110,
          107,
          106,
          105,
          114,
          123,
          125,
          114,
          94,
          77,
          65,
          57,
          55,
          65,
          80,
          94,
          105,
          114,
          121,
          128,
          132,
          123,
          106,
          86,
          72,
          61,
          59,
          69,
          81,
          93,
          97,
          80,
          63,
          48,
          38,
          31,
          36,
          46,
          57,
          72,
          84,
          98,
          109,
          115,
          97,
          81,
          67,
          56,
          53,
          55,
          50,
          51,
          62,
          59,
          61,
          72,
          72,
          71,
          78,
          89,
          97,
          99,
          92,
          92,
          94,
          90,
          87,
          94,
          93,
          78,
          68,
          71,
          83,
          95,
          97,
          100,
          105,
          109,
          101,
          93,
          94,
          94,
          92,
          99,
          108,
          107,
          103,
          107,
          111,
          97,
          82,
          72,
          70,
          77,
          85,
          96,
          104,
          113,
          118,
          120,
          104,
          88,
          76,
          68,
          62,
          60,
          62,
          66,
          63,
          65,
          78,
          89,
          97,
          108,
          108,
          104,
          102,
          110,
          119,
          126,
          123,
          102,
          83,
          67,
          58,
          53,
          62,
          76,
          91,
          101,
          112,
          118,
          125,
          131,
          126,
          109,
          92,
          75,
          59,
          58,
          68,
          79,
          89,
          99,
          90,
          71,
          53,
          42,
          34,
          35,
          44,
          52,
          68,
          82,
          93,
          105,
          115,
          106,
          85,
          70,
          60,
          63,
          53,
          52,
          49,
          60,
          61,
          60,
          72,
          71,
          71,
          74,
          81,
          95,
          96,
          92,
          90,
          97,
          95,
          89,
          93,
          96,
          83,
          72,
          72,
          83,
          94,
          94,
          93,
          101,
          105,
          99,
          95,
          92,
          95,
          94,
          96,
          103,
          106,
          103,
          105,
          112,
          102,
          87,
          74,
          69,
          74,
          85,
          95,
          104,
          112,
          117,
          120,
          106,
          89,
          76,
          67,
          66,
          63,
          61,
          61,
          60,
          60,
          72,
          84,
          94,
          104,
          111,
          104,
          100,
          102,
          112,
          120,
          124,
          113,
          92,
          75,
          62,
          57,
          59,
          67,
          82,
          95,
          106,
          114,
          121,
          128,
          132,
          118,
          99,
          83,
          69,
          61,
          56,
          64,
          78,
          91,
          99,
          83,
          65,
          48,
          30,
          30,
          36,
          46,
          57,
          72,
          83,
          92,
          103,
          111,
          105,
          86,
          63,
          66,
          50,
          51,
          51,
          51,
          61,
          59,
          59,
          70,
          70,
          71,
          76,
          87,
          95,
          99,
          94,
          93,
          93,
          92,
          89,
          92,
          93,
          81,
          70,
          73,
          83,
          94,
          97,
          99,
          106,
          107,
          97,
          92,
          93,
          95,
          91,
          94,
          102,
          105,
          105,
          105,
          113,
          102,
          88,
          75,
          68,
          73,
          85,
          96,
          105,
          113,
          118,
          117,
          102,
          87,
          77,
          68,
          65,
          62,
          62,
          62,
          61,
          57,
          68,
          81,
          92,
          100,
          109,
          104,
          102,
          103,
          110,
          119,
          124,
          113,
          94,
          78,
          66,
          58,
          57,
          64,
          77,
          91,
          102,
          112,
          118,
          125,
          129,
          123,
          105,
          87,
          72,
          60,
          61,
          66,
          73,
          84,
          95,
          92,
          72,
          55,
          44,
          34,
          36,
          41,
          51,
          63,
          75,
          87,
          99,
          110,
          112,
          91,
          73,
          61,
          52,
          53,
          54,
          50,
          55,
          60,
          57,
          65,
          73,
          72,
          71,
          80,
          89,
          98,
          96,
          90,
          92,
          95,
          91,
          93,
          99,
          95,
          80,
          71,
          75,
          86,
          93,
          96,
          98,
          106,
          100,
          96,
          92,
          94,
          95,
          95,
          99,
          104,
          104,
          103,
          108,
          108,
          92,
          73,
          68,
          67,
          75,
          86,
          97,
          105,
          110,
          110,
          110,
          98,
          85,
          75,
          68,
          65,
          62,
          63,
          61,
          60,
          59,
          67,
          80,
          88,
          88,
          98,
          100,
          101,
          101,
          108,
          116,
          124,
          121,
          103,
          84,
          69,
          59,
          53,
          59,
          70,
          86,
          98,
          109,
          115,
          123,
          129,
          124,
          105
         ],
         "yaxis": "y"
        }
       ],
       "layout": {
        "legend": {
         "tracegroupgap": 0
        },
        "margin": {
         "t": 60
        },
        "template": {
         "data": {
          "bar": [
           {
            "error_x": {
             "color": "#2a3f5f"
            },
            "error_y": {
             "color": "#2a3f5f"
            },
            "marker": {
             "line": {
              "color": "#E5ECF6",
              "width": 0.5
             },
             "pattern": {
              "fillmode": "overlay",
              "size": 10,
              "solidity": 0.2
             }
            },
            "type": "bar"
           }
          ],
          "barpolar": [
           {
            "marker": {
             "line": {
              "color": "#E5ECF6",
              "width": 0.5
             },
             "pattern": {
              "fillmode": "overlay",
              "size": 10,
              "solidity": 0.2
             }
            },
            "type": "barpolar"
           }
          ],
          "carpet": [
           {
            "aaxis": {
             "endlinecolor": "#2a3f5f",
             "gridcolor": "white",
             "linecolor": "white",
             "minorgridcolor": "white",
             "startlinecolor": "#2a3f5f"
            },
            "baxis": {
             "endlinecolor": "#2a3f5f",
             "gridcolor": "white",
             "linecolor": "white",
             "minorgridcolor": "white",
             "startlinecolor": "#2a3f5f"
            },
            "type": "carpet"
           }
          ],
          "choropleth": [
           {
            "colorbar": {
             "outlinewidth": 0,
             "ticks": ""
            },
            "type": "choropleth"
           }
          ],
          "contour": [
           {
            "colorbar": {
             "outlinewidth": 0,
             "ticks": ""
            },
            "colorscale": [
             [
              0,
              "#0d0887"
             ],
             [
              0.1111111111111111,
              "#46039f"
             ],
             [
              0.2222222222222222,
              "#7201a8"
             ],
             [
              0.3333333333333333,
              "#9c179e"
             ],
             [
              0.4444444444444444,
              "#bd3786"
             ],
             [
              0.5555555555555556,
              "#d8576b"
             ],
             [
              0.6666666666666666,
              "#ed7953"
             ],
             [
              0.7777777777777778,
              "#fb9f3a"
             ],
             [
              0.8888888888888888,
              "#fdca26"
             ],
             [
              1,
              "#f0f921"
             ]
            ],
            "type": "contour"
           }
          ],
          "contourcarpet": [
           {
            "colorbar": {
             "outlinewidth": 0,
             "ticks": ""
            },
            "type": "contourcarpet"
           }
          ],
          "heatmap": [
           {
            "colorbar": {
             "outlinewidth": 0,
             "ticks": ""
            },
            "colorscale": [
             [
              0,
              "#0d0887"
             ],
             [
              0.1111111111111111,
              "#46039f"
             ],
             [
              0.2222222222222222,
              "#7201a8"
             ],
             [
              0.3333333333333333,
              "#9c179e"
             ],
             [
              0.4444444444444444,
              "#bd3786"
             ],
             [
              0.5555555555555556,
              "#d8576b"
             ],
             [
              0.6666666666666666,
              "#ed7953"
             ],
             [
              0.7777777777777778,
              "#fb9f3a"
             ],
             [
              0.8888888888888888,
              "#fdca26"
             ],
             [
              1,
              "#f0f921"
             ]
            ],
            "type": "heatmap"
           }
          ],
          "heatmapgl": [
           {
            "colorbar": {
             "outlinewidth": 0,
             "ticks": ""
            },
            "colorscale": [
             [
              0,
              "#0d0887"
             ],
             [
              0.1111111111111111,
              "#46039f"
             ],
             [
              0.2222222222222222,
              "#7201a8"
             ],
             [
              0.3333333333333333,
              "#9c179e"
             ],
             [
              0.4444444444444444,
              "#bd3786"
             ],
             [
              0.5555555555555556,
              "#d8576b"
             ],
             [
              0.6666666666666666,
              "#ed7953"
             ],
             [
              0.7777777777777778,
              "#fb9f3a"
             ],
             [
              0.8888888888888888,
              "#fdca26"
             ],
             [
              1,
              "#f0f921"
             ]
            ],
            "type": "heatmapgl"
           }
          ],
          "histogram": [
           {
            "marker": {
             "pattern": {
              "fillmode": "overlay",
              "size": 10,
              "solidity": 0.2
             }
            },
            "type": "histogram"
           }
          ],
          "histogram2d": [
           {
            "colorbar": {
             "outlinewidth": 0,
             "ticks": ""
            },
            "colorscale": [
             [
              0,
              "#0d0887"
             ],
             [
              0.1111111111111111,
              "#46039f"
             ],
             [
              0.2222222222222222,
              "#7201a8"
             ],
             [
              0.3333333333333333,
              "#9c179e"
             ],
             [
              0.4444444444444444,
              "#bd3786"
             ],
             [
              0.5555555555555556,
              "#d8576b"
             ],
             [
              0.6666666666666666,
              "#ed7953"
             ],
             [
              0.7777777777777778,
              "#fb9f3a"
             ],
             [
              0.8888888888888888,
              "#fdca26"
             ],
             [
              1,
              "#f0f921"
             ]
            ],
            "type": "histogram2d"
           }
          ],
          "histogram2dcontour": [
           {
            "colorbar": {
             "outlinewidth": 0,
             "ticks": ""
            },
            "colorscale": [
             [
              0,
              "#0d0887"
             ],
             [
              0.1111111111111111,
              "#46039f"
             ],
             [
              0.2222222222222222,
              "#7201a8"
             ],
             [
              0.3333333333333333,
              "#9c179e"
             ],
             [
              0.4444444444444444,
              "#bd3786"
             ],
             [
              0.5555555555555556,
              "#d8576b"
             ],
             [
              0.6666666666666666,
              "#ed7953"
             ],
             [
              0.7777777777777778,
              "#fb9f3a"
             ],
             [
              0.8888888888888888,
              "#fdca26"
             ],
             [
              1,
              "#f0f921"
             ]
            ],
            "type": "histogram2dcontour"
           }
          ],
          "mesh3d": [
           {
            "colorbar": {
             "outlinewidth": 0,
             "ticks": ""
            },
            "type": "mesh3d"
           }
          ],
          "parcoords": [
           {
            "line": {
             "colorbar": {
              "outlinewidth": 0,
              "ticks": ""
             }
            },
            "type": "parcoords"
           }
          ],
          "pie": [
           {
            "automargin": true,
            "type": "pie"
           }
          ],
          "scatter": [
           {
            "fillpattern": {
             "fillmode": "overlay",
             "size": 10,
             "solidity": 0.2
            },
            "type": "scatter"
           }
          ],
          "scatter3d": [
           {
            "line": {
             "colorbar": {
              "outlinewidth": 0,
              "ticks": ""
             }
            },
            "marker": {
             "colorbar": {
              "outlinewidth": 0,
              "ticks": ""
             }
            },
            "type": "scatter3d"
           }
          ],
          "scattercarpet": [
           {
            "marker": {
             "colorbar": {
              "outlinewidth": 0,
              "ticks": ""
             }
            },
            "type": "scattercarpet"
           }
          ],
          "scattergeo": [
           {
            "marker": {
             "colorbar": {
              "outlinewidth": 0,
              "ticks": ""
             }
            },
            "type": "scattergeo"
           }
          ],
          "scattergl": [
           {
            "marker": {
             "colorbar": {
              "outlinewidth": 0,
              "ticks": ""
             }
            },
            "type": "scattergl"
           }
          ],
          "scattermapbox": [
           {
            "marker": {
             "colorbar": {
              "outlinewidth": 0,
              "ticks": ""
             }
            },
            "type": "scattermapbox"
           }
          ],
          "scatterpolar": [
           {
            "marker": {
             "colorbar": {
              "outlinewidth": 0,
              "ticks": ""
             }
            },
            "type": "scatterpolar"
           }
          ],
          "scatterpolargl": [
           {
            "marker": {
             "colorbar": {
              "outlinewidth": 0,
              "ticks": ""
             }
            },
            "type": "scatterpolargl"
           }
          ],
          "scatterternary": [
           {
            "marker": {
             "colorbar": {
              "outlinewidth": 0,
              "ticks": ""
             }
            },
            "type": "scatterternary"
           }
          ],
          "surface": [
           {
            "colorbar": {
             "outlinewidth": 0,
             "ticks": ""
            },
            "colorscale": [
             [
              0,
              "#0d0887"
             ],
             [
              0.1111111111111111,
              "#46039f"
             ],
             [
              0.2222222222222222,
              "#7201a8"
             ],
             [
              0.3333333333333333,
              "#9c179e"
             ],
             [
              0.4444444444444444,
              "#bd3786"
             ],
             [
              0.5555555555555556,
              "#d8576b"
             ],
             [
              0.6666666666666666,
              "#ed7953"
             ],
             [
              0.7777777777777778,
              "#fb9f3a"
             ],
             [
              0.8888888888888888,
              "#fdca26"
             ],
             [
              1,
              "#f0f921"
             ]
            ],
            "type": "surface"
           }
          ],
          "table": [
           {
            "cells": {
             "fill": {
              "color": "#EBF0F8"
             },
             "line": {
              "color": "white"
             }
            },
            "header": {
             "fill": {
              "color": "#C8D4E3"
             },
             "line": {
              "color": "white"
             }
            },
            "type": "table"
           }
          ]
         },
         "layout": {
          "annotationdefaults": {
           "arrowcolor": "#2a3f5f",
           "arrowhead": 0,
           "arrowwidth": 1
          },
          "autotypenumbers": "strict",
          "coloraxis": {
           "colorbar": {
            "outlinewidth": 0,
            "ticks": ""
           }
          },
          "colorscale": {
           "diverging": [
            [
             0,
             "#8e0152"
            ],
            [
             0.1,
             "#c51b7d"
            ],
            [
             0.2,
             "#de77ae"
            ],
            [
             0.3,
             "#f1b6da"
            ],
            [
             0.4,
             "#fde0ef"
            ],
            [
             0.5,
             "#f7f7f7"
            ],
            [
             0.6,
             "#e6f5d0"
            ],
            [
             0.7,
             "#b8e186"
            ],
            [
             0.8,
             "#7fbc41"
            ],
            [
             0.9,
             "#4d9221"
            ],
            [
             1,
             "#276419"
            ]
           ],
           "sequential": [
            [
             0,
             "#0d0887"
            ],
            [
             0.1111111111111111,
             "#46039f"
            ],
            [
             0.2222222222222222,
             "#7201a8"
            ],
            [
             0.3333333333333333,
             "#9c179e"
            ],
            [
             0.4444444444444444,
             "#bd3786"
            ],
            [
             0.5555555555555556,
             "#d8576b"
            ],
            [
             0.6666666666666666,
             "#ed7953"
            ],
            [
             0.7777777777777778,
             "#fb9f3a"
            ],
            [
             0.8888888888888888,
             "#fdca26"
            ],
            [
             1,
             "#f0f921"
            ]
           ],
           "sequentialminus": [
            [
             0,
             "#0d0887"
            ],
            [
             0.1111111111111111,
             "#46039f"
            ],
            [
             0.2222222222222222,
             "#7201a8"
            ],
            [
             0.3333333333333333,
             "#9c179e"
            ],
            [
             0.4444444444444444,
             "#bd3786"
            ],
            [
             0.5555555555555556,
             "#d8576b"
            ],
            [
             0.6666666666666666,
             "#ed7953"
            ],
            [
             0.7777777777777778,
             "#fb9f3a"
            ],
            [
             0.8888888888888888,
             "#fdca26"
            ],
            [
             1,
             "#f0f921"
            ]
           ]
          },
          "colorway": [
           "#636efa",
           "#EF553B",
           "#00cc96",
           "#ab63fa",
           "#FFA15A",
           "#19d3f3",
           "#FF6692",
           "#B6E880",
           "#FF97FF",
           "#FECB52"
          ],
          "font": {
           "color": "#2a3f5f"
          },
          "geo": {
           "bgcolor": "white",
           "lakecolor": "white",
           "landcolor": "#E5ECF6",
           "showlakes": true,
           "showland": true,
           "subunitcolor": "white"
          },
          "hoverlabel": {
           "align": "left"
          },
          "hovermode": "closest",
          "mapbox": {
           "style": "light"
          },
          "paper_bgcolor": "white",
          "plot_bgcolor": "#E5ECF6",
          "polar": {
           "angularaxis": {
            "gridcolor": "white",
            "linecolor": "white",
            "ticks": ""
           },
           "bgcolor": "#E5ECF6",
           "radialaxis": {
            "gridcolor": "white",
            "linecolor": "white",
            "ticks": ""
           }
          },
          "scene": {
           "xaxis": {
            "backgroundcolor": "#E5ECF6",
            "gridcolor": "white",
            "gridwidth": 2,
            "linecolor": "white",
            "showbackground": true,
            "ticks": "",
            "zerolinecolor": "white"
           },
           "yaxis": {
            "backgroundcolor": "#E5ECF6",
            "gridcolor": "white",
            "gridwidth": 2,
            "linecolor": "white",
            "showbackground": true,
            "ticks": "",
            "zerolinecolor": "white"
           },
           "zaxis": {
            "backgroundcolor": "#E5ECF6",
            "gridcolor": "white",
            "gridwidth": 2,
            "linecolor": "white",
            "showbackground": true,
            "ticks": "",
            "zerolinecolor": "white"
           }
          },
          "shapedefaults": {
           "line": {
            "color": "#2a3f5f"
           }
          },
          "ternary": {
           "aaxis": {
            "gridcolor": "white",
            "linecolor": "white",
            "ticks": ""
           },
           "baxis": {
            "gridcolor": "white",
            "linecolor": "white",
            "ticks": ""
           },
           "bgcolor": "#E5ECF6",
           "caxis": {
            "gridcolor": "white",
            "linecolor": "white",
            "ticks": ""
           }
          },
          "title": {
           "x": 0.05
          },
          "xaxis": {
           "automargin": true,
           "gridcolor": "white",
           "linecolor": "white",
           "ticks": "",
           "title": {
            "standoff": 15
           },
           "zerolinecolor": "white",
           "zerolinewidth": 2
          },
          "yaxis": {
           "automargin": true,
           "gridcolor": "white",
           "linecolor": "white",
           "ticks": "",
           "title": {
            "standoff": 15
           },
           "zerolinecolor": "white",
           "zerolinewidth": 2
          }
         }
        },
        "xaxis": {
         "anchor": "y",
         "domain": [
          0,
          1
         ],
         "title": {
          "text": "time_s"
         }
        },
        "yaxis": {
         "anchor": "x",
         "domain": [
          0,
          1
         ],
         "title": {
          "text": "speed_mph"
         }
        }
       }
      }
     },
     "metadata": {},
     "output_type": "display_data"
    }
   ],
   "source": [
    "import plotly.express as px\n",
    "px.line(df_drivecycle,'time_s','speed_mph')"
   ]
  },
  {
   "cell_type": "code",
   "execution_count": null,
   "metadata": {},
   "outputs": [],
   "source": [
    "if 'avg_speed_kmph' not in df_drivecycle.columns:\n",
    "    if 'speed_mph' in df_drivecycle.columns:\n",
    "        df_drivecycle['speed_kmph'] = df_drivecycle['speed_mph']*1.60934*1\n",
    "\n",
    "    df_drivecycle['avg_speed_kmph'] = df_drivecycle['speed_kmph'].ewm(span=1).mean()\n",
    "\n",
    "time_interp = df_drivecycle['time_s'].to_numpy()\n",
    "speed_interp = df_drivecycle['avg_speed_kmph'].to_numpy()\n",
    "diff_interp = [((speed_interp[i+1]-speed_interp[i-1])/3.6)/(time_interp[i+1]-time_interp[i-1]) for i in np.arange(1,len(time_interp)-1)]\n",
    "accn_interp = np.insert(diff_interp,0,0)\n",
    "accn_interp = np.append(accn_interp,0)\n",
    "df_drivecycle['avg_accn_mps2'] = accn_interp"
   ]
  },
  {
   "cell_type": "code",
   "execution_count": null,
   "metadata": {},
   "outputs": [],
   "source": [
    "fig,ax = plt.subplots(1,1,figsize=[20,4])\n",
    "\n",
    "#Speed plot\n",
    "ax.plot(df_drivecycle['time_s'],df_drivecycle['speed_kmph'],label='orig')\n",
    "ax.plot(df_drivecycle['time_s'],df_drivecycle['avg_speed_kmph'],label='avg')\n",
    "ax.set_xlim([0, df_drivecycle['time_s'].max()])\n",
    "# 0].set_xlim([1000, 1200])\n",
    "ax.set_ylim([0, df_drivecycle['speed_kmph'].max()+10])\n",
    "ax.set_title('Predicted')\n",
    "ax.set_xlabel('Time_s')\n",
    "ax.set_ylabel('Speed_kmph')\n",
    "ax.legend()\n",
    "ax.grid()"
   ]
  },
  {
   "attachments": {},
   "cell_type": "markdown",
   "metadata": {},
   "source": [
    "## Parameters"
   ]
  },
  {
   "attachments": {
    "image.png": {
     "image/png": "[encoded data removed]"
    }
   },
   "cell_type": "markdown",
   "metadata": {},
   "source": [
    "![image.png](attachment:image.png)"
   ]
  },
  {
   "cell_type": "code",
   "execution_count": 6,
   "metadata": {},
   "outputs": [
    {
     "data": {
      "image/png": "[encoded data removed]",
      "text/plain": [
       "<Figure size 2000x400 with 1 Axes>"
      ]
     },
     "metadata": {},
     "output_type": "display_data"
    }
   ],
   "source": [
    "plt.plot(df_drivecycle['time_s'], df_drivecycle['avg_speed_kmph'])\n",
    "plt.grid()"
   ]
  },
  {
   "attachments": {},
   "cell_type": "markdown",
   "metadata": {},
   "source": [
    "### vehicle parameters (select - 0)"
   ]
  },
  {
   "cell_type": "code",
   "execution_count": 7,
   "metadata": {},
   "outputs": [],
   "source": [
    "vehicle_param = {\n",
    "                 'mass': 285, #kg\n",
    "                 'g' : 9.81, #m/s^2 \n",
    "                 'c_rr': 0.045,\n",
    "                 'c_d': 0.58,\n",
    "                 'f_area': 0.7, #m^2\n",
    "                 'rho': 1.2, #kg/m^3\n",
    "                 'gradient': 0, #deg\n",
    "                 'v_air': 0, #tail wind in vehicle direction kmph\n",
    "                 'wb' : 1.340, #m\n",
    "                 'x_cg': .713, #m\n",
    "                 'z_cg': .633, #m\n",
    "                 'w_r' : 0.3, #m (average radius of front and rear wheel)\n",
    "                 'i_whl' : 0.42, #kgm2 rolling inertia of wheel\n",
    "                #  'i_whl' : 0, #kgm2 rolling inertia of wheel\n",
    "                 'Eff_chain': 0.90, #0.9 F77\n",
    "                 'R_whl_gb': 3.294,   #6.02/1.676, # reduction ratio between gearbox and wheel\n",
    "                 'i_gb' : 0.002, #kgm2\n",
    "                #  'i_gb' : 0.00, #kgm2\n",
    "                 'Eff_gb' : 0.90, #0.9 F77\n",
    "                 'R_gb_mtr' : 1.676, # reduction ratio between gearbox and motor\n",
    "                 'i_mtr' : 0.004, #kgm2\n",
    "                #  'i_mtr' : 0.00, #kgm2\n",
    "                 'pack_voltage_V': 52, #V 16s 48p\n",
    "                 'pack_resistance_ohm':16*pow(48/0.03,-1) #ohm #6.02\n",
    "\n",
    "#F99\n",
    "                # 'mass': 265, #kg\n",
    "                #  'g' : 9.81, #m/s^2 \n",
    "                #  'c_rr': 0.045,\n",
    "                #  'c_d': 0.58,\n",
    "                #  'f_area': 0.7, #m^2\n",
    "                #  'rho': 1.2, #kg/m^3\n",
    "                #  'gradient': 0, #deg\n",
    "                #  'v_air': 0, #tail wind in vehicle direction kmph\n",
    "                #  'wb' : 1.340, #m\n",
    "                #  'x_cg': .713, #m\n",
    "                #  'z_cg': .633, #m\n",
    "                #  'w_r' : 0.3, #m (average radius of front and rear wheel)\n",
    "                #  'i_whl' : 0.42, #kgm2 rolling inertia of wheel\n",
    "                #  'Eff_chain': 0.90, #0.9 F77\n",
    "                #  'R_whl_gb': 3.294, # reduction ratio between gearbox and wheel\n",
    "                #  'i_gb' : 0.002, #kgm2\n",
    "                #  'Eff_gb' : 0.90, #0.9 F77\n",
    "                #  'R_gb_mtr' : 1.676, # reduction ratio between gearbox and motor\n",
    "                #  'i_mtr' : 0.004, #kgm2\n",
    "                #  'pack_voltage_V': 3.6*96, #V 96s 6p\n",
    "                #  'pack_resistance_ohm':96*pow(6/0.013,-1) #s*(p/r)^-1\n",
    "                 }\n"
   ]
  },
  {
   "cell_type": "code",
   "execution_count": 8,
   "metadata": {},
   "outputs": [
    {
     "data": {
      "text/plain": [
       "0.01"
      ]
     },
     "execution_count": 8,
     "metadata": {},
     "output_type": "execute_result"
    }
   ],
   "source": [
    "16*pow(48/0.03,-1)"
   ]
  },
  {
   "cell_type": "code",
   "execution_count": 9,
   "metadata": {},
   "outputs": [
    {
     "data": {
      "text/plain": [
       "0.208"
      ]
     },
     "execution_count": 9,
     "metadata": {},
     "output_type": "execute_result"
    }
   ],
   "source": [
    "96*pow(6/0.013,-1)"
   ]
  },
  {
   "attachments": {},
   "cell_type": "markdown",
   "metadata": {},
   "source": [
    "### coastdown parameters (select - 1)"
   ]
  },
  {
   "cell_type": "code",
   "execution_count": 10,
   "metadata": {},
   "outputs": [],
   "source": [
    "coastdown_param = {\n",
    "                    # 'mass': 285, #kg\n",
    "                    # 'A' :26, #N\n",
    "                    # 'B' :-0.47, #N/kmph\n",
    "                    # 'C' :0.02899 #N/kmph^2\n",
    "                    # 'mass': 285, #kg\n",
    "                    # 'A' :50.9, #N\n",
    "                    # 'B' :0, #N/kmph\n",
    "                    # 'C' :0.025 #N/kmph^2\n",
    "                    'mass': 285, #kg\n",
    "                    'A' :55.25, #N\n",
    "                    'B' :0, #N/kmph\n",
    "                    'C' :0.02483, #N/kmph^2\n",
    "    #F99\n",
    "                    # 'mass': 265, #kg\n",
    "                    # 'A' :51.3, #N\n",
    "                    # 'B' :0, #N/kmph\n",
    "                    # 'C' :0.0225 #N/kmph^2\n",
    "                   }"
   ]
  },
  {
   "attachments": {},
   "cell_type": "markdown",
   "metadata": {},
   "source": [
    "## Vehicle Force model"
   ]
  },
  {
   "attachments": {},
   "cell_type": "markdown",
   "metadata": {},
   "source": [
    "### Force Model"
   ]
  },
  {
   "cell_type": "code",
   "execution_count": 11,
   "metadata": {},
   "outputs": [],
   "source": [
    "veh0_coast1 = 1"
   ]
  },
  {
   "cell_type": "code",
   "execution_count": 12,
   "metadata": {},
   "outputs": [
    {
     "name": "stdout",
     "output_type": "stream",
     "text": [
      "F_coast\n"
     ]
    }
   ],
   "source": [
    "if veh0_coast1 == 0:\n",
    "    # Fr = (0.01*(1+df_drivecycle['avg_speed_kmph'].to_numpy()/(3.6*100)))*vehicle_param['mass']*vehicle_param['g']*math.cos(math.radians(vehicle_param['gradient'])) #for speed under 128kmph\n",
    "    Fr = vehicle_param['c_rr']*vehicle_param['mass']*vehicle_param['g']*math.cos(math.radians(vehicle_param['gradient']))\n",
    "    Far = (0.5*vehicle_param['rho']*vehicle_param['f_area']*vehicle_param['c_d']/3.6**2)*(df_drivecycle['avg_speed_kmph'].to_numpy()+vehicle_param['v_air'])**2\n",
    "    Fgr = vehicle_param['c_rr']*vehicle_param['mass']*vehicle_param['g']*math.sin(math.radians(vehicle_param['gradient']))\n",
    "    Fac = vehicle_param['mass']*df_drivecycle['avg_accn_mps2'].to_numpy()\n",
    "    Fr = Fr+Far+Fgr+Fac\n",
    "    print('F_calc')\n",
    "else:\n",
    "    Fr = coastdown_param['A']\n",
    "    Far = coastdown_param['C']*df_drivecycle['avg_speed_kmph']**2\n",
    "    Fac = coastdown_param['mass']*df_drivecycle['avg_accn_mps2']\n",
    "    Fb = coastdown_param['B']*df_drivecycle['avg_speed_kmph']\n",
    "    Fr = Fr + Far + Fac + Fb\n",
    "    print('F_coast')"
   ]
  },
  {
   "cell_type": "code",
   "execution_count": 13,
   "metadata": {},
   "outputs": [],
   "source": [
    "# vel_arr = np.arange(0,140,10)\n",
    "# Fa = coastdown_param['A']\n",
    "# Far = coastdown_param['C']*vel_arr**2\n",
    "#     # Fac = coastdown_param['mass']*df_drivecycle['avg_accn_mps2']\n",
    "# Fb = coastdown_param['B']*vel_arr\n",
    "# Fr = Fa + Far  + Fb"
   ]
  },
  {
   "cell_type": "code",
   "execution_count": 14,
   "metadata": {},
   "outputs": [],
   "source": [
    "# plt.plot(vel_arr, Fr)\n",
    "# plt.grid()"
   ]
  },
  {
   "attachments": {},
   "cell_type": "markdown",
   "metadata": {},
   "source": [
    "### Roational resistance model"
   ]
  },
  {
   "attachments": {},
   "cell_type": "markdown",
   "metadata": {},
   "source": [
    "#### wheel"
   ]
  },
  {
   "cell_type": "code",
   "execution_count": 15,
   "metadata": {},
   "outputs": [],
   "source": [
    "Tr = Fr*vehicle_param['w_r'] #Nm"
   ]
  },
  {
   "cell_type": "code",
   "execution_count": 16,
   "metadata": {},
   "outputs": [],
   "source": [
    "Td_whl = Tr\n",
    "# drive_Td_whl = np.clip(Tr, a_min = 0, a_max = None)\n",
    "alpha_whl = df_drivecycle['avg_accn_mps2'].to_numpy()/vehicle_param['w_r']\n",
    "torque_whl = alpha_whl * vehicle_param['i_whl']\n",
    "itorque_whl = Td_whl + torque_whl\n",
    "rpm_whl = ((df_drivecycle['avg_speed_kmph'].to_numpy()/3.6)/(2*math.pi*vehicle_param['w_r']))*60"
   ]
  },
  {
   "attachments": {},
   "cell_type": "markdown",
   "metadata": {},
   "source": [
    "#### gearbox"
   ]
  },
  {
   "cell_type": "code",
   "execution_count": 17,
   "metadata": {},
   "outputs": [],
   "source": [
    "T_gb = itorque_whl/(vehicle_param['R_whl_gb']*vehicle_param['Eff_chain'])\n",
    "alpha_gb = alpha_whl * vehicle_param['R_whl_gb']\n",
    "torque_gb = alpha_gb * vehicle_param['i_gb']\n",
    "itorque_gb = T_gb + torque_gb\n",
    "rpm_gb = rpm_whl * vehicle_param['R_whl_gb']"
   ]
  },
  {
   "attachments": {},
   "cell_type": "markdown",
   "metadata": {},
   "source": [
    "#### motor"
   ]
  },
  {
   "cell_type": "code",
   "execution_count": 18,
   "metadata": {},
   "outputs": [],
   "source": [
    "T_mtr = itorque_gb/(vehicle_param['R_gb_mtr']*vehicle_param['Eff_gb'])\n",
    "alpha_mtr = alpha_gb * vehicle_param['R_gb_mtr']\n",
    "torque_mtr = alpha_mtr * vehicle_param['i_mtr']\n",
    "itorque_mtr = T_mtr + torque_mtr\n",
    "rpm_mtr = rpm_gb * vehicle_param['R_gb_mtr']"
   ]
  },
  {
   "attachments": {},
   "cell_type": "markdown",
   "metadata": {},
   "source": [
    "#### drive forces"
   ]
  },
  {
   "cell_type": "code",
   "execution_count": 19,
   "metadata": {},
   "outputs": [],
   "source": [
    "drive_itorque_whl = np.clip(itorque_whl, a_min = 0, a_max = None)\n",
    "drive_itorque_gb= np.clip(itorque_gb, a_min = 0, a_max = None)\n",
    "drive_itorque_mtr = np.clip(itorque_mtr, a_min = 0, a_max = None)"
   ]
  },
  {
   "attachments": {},
   "cell_type": "markdown",
   "metadata": {},
   "source": [
    "#### braking forces"
   ]
  },
  {
   "cell_type": "code",
   "execution_count": 20,
   "metadata": {},
   "outputs": [],
   "source": [
    "brake_itorque_whl = np.clip(itorque_whl, a_min = None, a_max = 0)\n",
    "# brake_itorque_whl = brake_itorque_whl[brake_itorque_whl != 0] \n",
    "\n",
    "brake_itorque_gb= np.clip(itorque_gb, a_min = None, a_max = 0)\n",
    "# brake_itorque_gb = brake_itorque_gb[brake_itorque_gb != 0] \n",
    "\n",
    "brake_itorque_mtr = np.clip(itorque_mtr, a_min = None, a_max = 0)\n",
    "# brake_itorque_mtr = brake_itorque_mtr[brake_itorque_mtr != 0] "
   ]
  },
  {
   "attachments": {},
   "cell_type": "markdown",
   "metadata": {},
   "source": [
    "## Motor and Controller"
   ]
  },
  {
   "cell_type": "markdown",
   "metadata": {},
   "source": [
    "### old efficiency"
   ]
  },
  {
   "cell_type": "code",
   "execution_count": null,
   "metadata": {},
   "outputs": [],
   "source": [
    "mtr_eff_map = pd.read_csv(r\"mtr_eff.csv\", index_col = [0])\n",
    "mtr_eff_arr = mtr_eff_map.values"
   ]
  },
  {
   "cell_type": "code",
   "execution_count": null,
   "metadata": {},
   "outputs": [],
   "source": [
    "mtr_eff_dc = []\n",
    "for actual_torque, actual_rpm in zip(drive_itorque_mtr, rpm_mtr):\n",
    "    mtr_eff_dc.append(mtr_eff_arr[int(actual_rpm//100),int(actual_torque/10)])\n",
    "\n",
    "mtr_eff_dc = np.array(mtr_eff_dc)"
   ]
  },
  {
   "cell_type": "code",
   "execution_count": null,
   "metadata": {},
   "outputs": [],
   "source": [
    "mtr_ctrl_eff_map = pd.read_csv(r\"mtr_ctrl_eff.csv\", index_col = [0])\n",
    "mtr_ctrl_eff_arr = mtr_ctrl_eff_map.values"
   ]
  },
  {
   "cell_type": "code",
   "execution_count": null,
   "metadata": {},
   "outputs": [],
   "source": [
    "mtr_ctrl_eff_dc = []\n",
    "for actual_torque, actual_rpm in zip(drive_itorque_mtr, rpm_mtr):\n",
    "    mtr_ctrl_eff_dc.append(mtr_ctrl_eff_arr[int(actual_rpm//100),int(actual_torque/10)])\n",
    "\n",
    "mtr_ctrl_eff_dc = np.array(mtr_ctrl_eff_dc)"
   ]
  },
  {
   "cell_type": "code",
   "execution_count": null,
   "metadata": {},
   "outputs": [],
   "source": [
    "total_mtr_system_eff_dc = mtr_ctrl_eff_dc * mtr_eff_dc/10000\n",
    "plt.rcParams[\"figure.figsize\"] = (20,3)\n",
    "plt.plot(total_mtr_system_eff_dc*100)\n",
    "plt.ylabel(\"Efficiency %\")"
   ]
  },
  {
   "cell_type": "code",
   "execution_count": null,
   "metadata": {},
   "outputs": [],
   "source": [
    "\n",
    "fig1 = go.Figure(data=[go.Surface(z=mtr_eff_arr)])\n",
    "fig1.update_layout(title='Motor Efficiency', autosize=False,\n",
    "                  width=500, height=500,\n",
    "                  margin=dict(l=65, r=50, b=65, t=90))\n",
    "\n",
    "fig1.show()"
   ]
  },
  {
   "cell_type": "code",
   "execution_count": null,
   "metadata": {},
   "outputs": [],
   "source": [
    "fig2 = go.Figure(data=[go.Surface(z=mtr_ctrl_eff_arr)])\n",
    "\n",
    "fig2.update_layout(title='Motor Controller Efficiency', autosize=False,\n",
    "                  width=500, height=500,\n",
    "                  margin=dict(l=65, r=50, b=65, t=90))\n",
    "\n",
    "fig2.show()"
   ]
  },
  {
   "cell_type": "code",
   "execution_count": null,
   "metadata": {},
   "outputs": [],
   "source": [
    "fig5 = go.Figure(data=[go.Surface(z=((mtr_ctrl_eff_arr*mtr_eff_arr).transpose()))])\n",
    "\n",
    "fig5.update_layout(title='Total Motor Efficiency', autosize=False,\n",
    "                  width=500, height=500,\n",
    "                  margin=dict(l=65, r=50, b=65, t=90))\n",
    "\n",
    "fig5.show()"
   ]
  },
  {
   "cell_type": "code",
   "execution_count": null,
   "metadata": {},
   "outputs": [],
   "source": [
    "total_itorque_mtr = brake_itorque_mtr + drive_itorque_mtr\n",
    "# plt.plot(total_itorque_mtr)\n",
    "df_total_itorque_mtr  = pd.DataFrame()\n",
    "df_total_itorque_mtr[\"drive_itorque_mtr\"]= drive_itorque_mtr\n",
    "df_total_itorque_mtr[\"total_itorque_mtr\"] = total_itorque_mtr\n",
    "df_total_itorque_mtr[\"rpm_mtr\"] = rpm_mtr\n",
    "df_total_itorque_mtr[\"total_mtr_system_eff_dc\"] =   total_mtr_system_eff_dc\n",
    "df_total_itorque_mtr[\"speed_kmph\"] = df_drivecycle[\"avg_speed_kmph\"]\n",
    "df_total_itorque_mtr[\"time_s\"] = df_drivecycle[\"time_s\"]\n",
    "\n",
    "# temp = df_total_itorque_mtr[\"total_mtr_system_eff_dc\"]\n",
    "df_total_itorque_mtr.loc[df_total_itorque_mtr[\"total_itorque_mtr\"]<0,'total_mtr_system_eff_dc'] = np.nan\n"
   ]
  },
  {
   "cell_type": "code",
   "execution_count": null,
   "metadata": {},
   "outputs": [],
   "source": [
    "fig3 = sns.lineplot(data=df_total_itorque_mtr, x=\"time_s\", y=\"speed_kmph\",linewidth = 0.7, color = \"black\")\n",
    "fig3 = sns.scatterplot(data=df_total_itorque_mtr, x=\"time_s\", y=\"speed_kmph\", hue=\"total_mtr_system_eff_dc\",  palette = \"rocket_r\", linewidth = 0 )\n",
    "sns.move_legend(fig3, \"upper left\", bbox_to_anchor=(1, 1))\n"
   ]
  },
  {
   "cell_type": "code",
   "execution_count": null,
   "metadata": {},
   "outputs": [],
   "source": [
    "total_mtr_eff_arr = mtr_eff_arr* mtr_ctrl_eff_arr/10000\n",
    "total_mtr_eff_arr= (total_mtr_eff_arr.transpose())[::-1]\n"
   ]
  },
  {
   "cell_type": "code",
   "execution_count": null,
   "metadata": {},
   "outputs": [],
   "source": [
    "rpm = np.arange(0, 7100, 100)\n",
    "torque = np.arange(0, 100, 10)\n",
    "\n",
    "[X, Y] = np.meshgrid(rpm, torque)  \n",
    "Z = total_mtr_eff_arr\n",
    "\n",
    "fig, ax = plt.subplots(1, 1)\n",
    "cs = ax.contourf(X, Y, Z)\n",
    "cbar = fig.colorbar(cs)\n",
    "ax = sns.scatterplot(data=df_total_itorque_mtr, x=\"rpm_mtr\", y=\"drive_itorque_mtr\", color = \"blue\", linewidth = 1, marker= \"x\")\n",
    "ax.set_xlabel(\"RPM\")\n",
    "ax.set_ylabel(\"Torque\")\n",
    "# ax.legend().set_visible(False)\n",
    "# ax.set_xlim(0,max(df_total_itorque_mtr[\"rpm_mtr\"])+100)\n",
    "# ax.set_ylim(0,max(df_total_itorque_mtr[\"drive_itorque_mtr\"])+5)\n",
    "fig.show()"
   ]
  },
  {
   "cell_type": "markdown",
   "metadata": {},
   "source": [
    "### sevcon eff"
   ]
  },
  {
   "cell_type": "code",
   "execution_count": 22,
   "metadata": {},
   "outputs": [],
   "source": [
    "sevcon_eff_map = pd.read_csv(r\"sevcon_eff.csv\", index_col = [0])\n",
    "# sevcon_eff_map = pd.read_csv(r\"evr_25kw_eff.csv\", index_col = [0])\n",
    "sevcon_eff_arr = sevcon_eff_map.values\n",
    "sevcon_eff_arr[np.isnan(sevcon_eff_arr)] = 80\n",
    "sevcon_eff_arr = sevcon_eff_arr*0.90\n"
   ]
  },
  {
   "cell_type": "code",
   "execution_count": 23,
   "metadata": {},
   "outputs": [],
   "source": [
    "sevcon_eff_trq = sevcon_eff_map.columns.astype(float).to_numpy()\n",
    "sevcon_eff_rpm = sevcon_eff_map.index.astype(float).to_numpy()"
   ]
  },
  {
   "cell_type": "code",
   "execution_count": 24,
   "metadata": {},
   "outputs": [
    {
     "data": {
      "application/vnd.plotly.v1+json": {
       "config": {
        "plotlyServerURL": "https://plot.ly"
       },
       "data": [
        {
         "type": "surface",
         "x": [
          0,
          5,
          10,
          15,
          20,
          25,
          30,
          35,
          40,
          45,
          50,
          55,
          60,
          65,
          70,
          75,
          80,
          85,
          90,
          95,
          100
         ],
         "y": [
          0,
          500,
          1000,
          1500,
          2000,
          2500,
          3000,
          3500,
          4000,
          4500,
          5000,
          5500,
          6000,
          6500,
          6750
         ],
         "z": [
          [
           77.49,
           77.49,
           79.2,
           77.49,
           76.77,
           75.69,
           72.72,
           70.92,
           70.2,
           68.31,
           66.24,
           64.26,
           62.19,
           59.489999999999995,
           57.06,
           56.43000000000001,
           52.29,
           48.87,
           47.519999999999996,
           44.550000000000004,
           72
          ],
          [
           77.49,
           77.49,
           79.2,
           77.49,
           76.77,
           75.69,
           72.72,
           70.92,
           70.2,
           68.31,
           66.24,
           64.26,
           62.19,
           59.489999999999995,
           57.06,
           56.43000000000001,
           52.29,
           48.87,
           47.519999999999996,
           44.550000000000004,
           72
          ],
          [
           78.39,
           78.39,
           81,
           81.45,
           81,
           80.10000000000001,
           79.02,
           78.03,
           77.31,
           76.05,
           74.88000000000001,
           73.35000000000001,
           71.82,
           69.84,
           67.86000000000001,
           63.18000000000001,
           63.9,
           60.839999999999996,
           69.57,
           72,
           72
          ],
          [
           78.84,
           78.84,
           82.08,
           82.71000000000001,
           82.44,
           81.9,
           81.27,
           80.73,
           79.83,
           78.93,
           78.03,
           76.77,
           75.51,
           73.89,
           73.26,
           70.65,
           68.4,
           66.15,
           64.35000000000001,
           72,
           72
          ],
          [
           79.38000000000001,
           79.38000000000001,
           83.07,
           83.16000000000001,
           83.34,
           82.89,
           82.44,
           81.72,
           81.27,
           80.55,
           79.47,
           78.48,
           77.58,
           76.23,
           74.43,
           72.45,
           71.64,
           68.49,
           67.86000000000001,
           72,
           72
          ],
          [
           79.28999999999999,
           79.28999999999999,
           82.17,
           83.97,
           83.43,
           82.89,
           82.98,
           82.08,
           81.99,
           81.36000000000001,
           80.37,
           79.2,
           77.94,
           77.76,
           75.15,
           66.42,
           72,
           72,
           72,
           72,
           72
          ],
          [
           78.21000000000001,
           78.21000000000001,
           83.07,
           83.52,
           83.61000000000001,
           83.34,
           82.98,
           82.53,
           81.9,
           81.27,
           80.28,
           79.02,
           76.95,
           70.74,
           72,
           72,
           72,
           72,
           72,
           72,
           72
          ],
          [
           78.66000000000001,
           78.66000000000001,
           82.98,
           83.07,
           83.52,
           83.25,
           82.71000000000001,
           81.53999999999999,
           80.73,
           78.93,
           76.05,
           72.09,
           72,
           72,
           72,
           72,
           72,
           72,
           72,
           72,
           72
          ],
          [
           77.94,
           77.94,
           81.36000000000001,
           82.62,
           82.26,
           81.99,
           81.72,
           80.19,
           77.58,
           76.68,
           73.98,
           72,
           72,
           72,
           72,
           72,
           72,
           72,
           72,
           72,
           72
          ],
          [
           75.15,
           75.15,
           80.10000000000001,
           81.27,
           81.81,
           81.36000000000001,
           79.83,
           76.77,
           73.71000000000001,
           72,
           72,
           72,
           72,
           72,
           72,
           72,
           72,
           72,
           72,
           72,
           72
          ],
          [
           69.57,
           69.57,
           78.21000000000001,
           80.01,
           79.74,
           80.01,
           77.49,
           74.07,
           74.34,
           72,
           72,
           72,
           72,
           72,
           72,
           72,
           72,
           72,
           72,
           72,
           72
          ],
          [
           71.19,
           71.19,
           79.56,
           80.28,
           79.92,
           79.11000000000001,
           75.60000000000001,
           74.52,
           72,
           72,
           72,
           72,
           72,
           72,
           72,
           72,
           72,
           72,
           72,
           72,
           72
          ],
          [
           71.10000000000001,
           71.10000000000001,
           76.23,
           78.48,
           78.39,
           77.22,
           74.78999999999999,
           72,
           72,
           72,
           72,
           72,
           72,
           72,
           72,
           72,
           72,
           72,
           72,
           72,
           72
          ],
          [
           68.22,
           68.22,
           75.87,
           77.76,
           78.12,
           75.06,
           74.34,
           72,
           72,
           72,
           72,
           72,
           72,
           72,
           72,
           72,
           72,
           72,
           72,
           72,
           72
          ],
          [
           66.60000000000001,
           66.60000000000001,
           75.60000000000001,
           77.49,
           76.5,
           74.34,
           72,
           72,
           72,
           72,
           72,
           72,
           72,
           72,
           72,
           72,
           72,
           72,
           72,
           72,
           72
          ]
         ]
        }
       ],
       "layout": {
        "autosize": false,
        "height": 500,
        "margin": {
         "b": 65,
         "l": 65,
         "r": 50,
         "t": 90
        },
        "template": {
         "data": {
          "bar": [
           {
            "error_x": {
             "color": "#2a3f5f"
            },
            "error_y": {
             "color": "#2a3f5f"
            },
            "marker": {
             "line": {
              "color": "#E5ECF6",
              "width": 0.5
             },
             "pattern": {
              "fillmode": "overlay",
              "size": 10,
              "solidity": 0.2
             }
            },
            "type": "bar"
           }
          ],
          "barpolar": [
           {
            "marker": {
             "line": {
              "color": "#E5ECF6",
              "width": 0.5
             },
             "pattern": {
              "fillmode": "overlay",
              "size": 10,
              "solidity": 0.2
             }
            },
            "type": "barpolar"
           }
          ],
          "carpet": [
           {
            "aaxis": {
             "endlinecolor": "#2a3f5f",
             "gridcolor": "white",
             "linecolor": "white",
             "minorgridcolor": "white",
             "startlinecolor": "#2a3f5f"
            },
            "baxis": {
             "endlinecolor": "#2a3f5f",
             "gridcolor": "white",
             "linecolor": "white",
             "minorgridcolor": "white",
             "startlinecolor": "#2a3f5f"
            },
            "type": "carpet"
           }
          ],
          "choropleth": [
           {
            "colorbar": {
             "outlinewidth": 0,
             "ticks": ""
            },
            "type": "choropleth"
           }
          ],
          "contour": [
           {
            "colorbar": {
             "outlinewidth": 0,
             "ticks": ""
            },
            "colorscale": [
             [
              0,
              "#0d0887"
             ],
             [
              0.1111111111111111,
              "#46039f"
             ],
             [
              0.2222222222222222,
              "#7201a8"
             ],
             [
              0.3333333333333333,
              "#9c179e"
             ],
             [
              0.4444444444444444,
              "#bd3786"
             ],
             [
              0.5555555555555556,
              "#d8576b"
             ],
             [
              0.6666666666666666,
              "#ed7953"
             ],
             [
              0.7777777777777778,
              "#fb9f3a"
             ],
             [
              0.8888888888888888,
              "#fdca26"
             ],
             [
              1,
              "#f0f921"
             ]
            ],
            "type": "contour"
           }
          ],
          "contourcarpet": [
           {
            "colorbar": {
             "outlinewidth": 0,
             "ticks": ""
            },
            "type": "contourcarpet"
           }
          ],
          "heatmap": [
           {
            "colorbar": {
             "outlinewidth": 0,
             "ticks": ""
            },
            "colorscale": [
             [
              0,
              "#0d0887"
             ],
             [
              0.1111111111111111,
              "#46039f"
             ],
             [
              0.2222222222222222,
              "#7201a8"
             ],
             [
              0.3333333333333333,
              "#9c179e"
             ],
             [
              0.4444444444444444,
              "#bd3786"
             ],
             [
              0.5555555555555556,
              "#d8576b"
             ],
             [
              0.6666666666666666,
              "#ed7953"
             ],
             [
              0.7777777777777778,
              "#fb9f3a"
             ],
             [
              0.8888888888888888,
              "#fdca26"
             ],
             [
              1,
              "#f0f921"
             ]
            ],
            "type": "heatmap"
           }
          ],
          "heatmapgl": [
           {
            "colorbar": {
             "outlinewidth": 0,
             "ticks": ""
            },
            "colorscale": [
             [
              0,
              "#0d0887"
             ],
             [
              0.1111111111111111,
              "#46039f"
             ],
             [
              0.2222222222222222,
              "#7201a8"
             ],
             [
              0.3333333333333333,
              "#9c179e"
             ],
             [
              0.4444444444444444,
              "#bd3786"
             ],
             [
              0.5555555555555556,
              "#d8576b"
             ],
             [
              0.6666666666666666,
              "#ed7953"
             ],
             [
              0.7777777777777778,
              "#fb9f3a"
             ],
             [
              0.8888888888888888,
              "#fdca26"
             ],
             [
              1,
              "#f0f921"
             ]
            ],
            "type": "heatmapgl"
           }
          ],
          "histogram": [
           {
            "marker": {
             "pattern": {
              "fillmode": "overlay",
              "size": 10,
              "solidity": 0.2
             }
            },
            "type": "histogram"
           }
          ],
          "histogram2d": [
           {
            "colorbar": {
             "outlinewidth": 0,
             "ticks": ""
            },
            "colorscale": [
             [
              0,
              "#0d0887"
             ],
             [
              0.1111111111111111,
              "#46039f"
             ],
             [
              0.2222222222222222,
              "#7201a8"
             ],
             [
              0.3333333333333333,
              "#9c179e"
             ],
             [
              0.4444444444444444,
              "#bd3786"
             ],
             [
              0.5555555555555556,
              "#d8576b"
             ],
             [
              0.6666666666666666,
              "#ed7953"
             ],
             [
              0.7777777777777778,
              "#fb9f3a"
             ],
             [
              0.8888888888888888,
              "#fdca26"
             ],
             [
              1,
              "#f0f921"
             ]
            ],
            "type": "histogram2d"
           }
          ],
          "histogram2dcontour": [
           {
            "colorbar": {
             "outlinewidth": 0,
             "ticks": ""
            },
            "colorscale": [
             [
              0,
              "#0d0887"
             ],
             [
              0.1111111111111111,
              "#46039f"
             ],
             [
              0.2222222222222222,
              "#7201a8"
             ],
             [
              0.3333333333333333,
              "#9c179e"
             ],
             [
              0.4444444444444444,
              "#bd3786"
             ],
             [
              0.5555555555555556,
              "#d8576b"
             ],
             [
              0.6666666666666666,
              "#ed7953"
             ],
             [
              0.7777777777777778,
              "#fb9f3a"
             ],
             [
              0.8888888888888888,
              "#fdca26"
             ],
             [
              1,
              "#f0f921"
             ]
            ],
            "type": "histogram2dcontour"
           }
          ],
          "mesh3d": [
           {
            "colorbar": {
             "outlinewidth": 0,
             "ticks": ""
            },
            "type": "mesh3d"
           }
          ],
          "parcoords": [
           {
            "line": {
             "colorbar": {
              "outlinewidth": 0,
              "ticks": ""
             }
            },
            "type": "parcoords"
           }
          ],
          "pie": [
           {
            "automargin": true,
            "type": "pie"
           }
          ],
          "scatter": [
           {
            "fillpattern": {
             "fillmode": "overlay",
             "size": 10,
             "solidity": 0.2
            },
            "type": "scatter"
           }
          ],
          "scatter3d": [
           {
            "line": {
             "colorbar": {
              "outlinewidth": 0,
              "ticks": ""
             }
            },
            "marker": {
             "colorbar": {
              "outlinewidth": 0,
              "ticks": ""
             }
            },
            "type": "scatter3d"
           }
          ],
          "scattercarpet": [
           {
            "marker": {
             "colorbar": {
              "outlinewidth": 0,
              "ticks": ""
             }
            },
            "type": "scattercarpet"
           }
          ],
          "scattergeo": [
           {
            "marker": {
             "colorbar": {
              "outlinewidth": 0,
              "ticks": ""
             }
            },
            "type": "scattergeo"
           }
          ],
          "scattergl": [
           {
            "marker": {
             "colorbar": {
              "outlinewidth": 0,
              "ticks": ""
             }
            },
            "type": "scattergl"
           }
          ],
          "scattermapbox": [
           {
            "marker": {
             "colorbar": {
              "outlinewidth": 0,
              "ticks": ""
             }
            },
            "type": "scattermapbox"
           }
          ],
          "scatterpolar": [
           {
            "marker": {
             "colorbar": {
              "outlinewidth": 0,
              "ticks": ""
             }
            },
            "type": "scatterpolar"
           }
          ],
          "scatterpolargl": [
           {
            "marker": {
             "colorbar": {
              "outlinewidth": 0,
              "ticks": ""
             }
            },
            "type": "scatterpolargl"
           }
          ],
          "scatterternary": [
           {
            "marker": {
             "colorbar": {
              "outlinewidth": 0,
              "ticks": ""
             }
            },
            "type": "scatterternary"
           }
          ],
          "surface": [
           {
            "colorbar": {
             "outlinewidth": 0,
             "ticks": ""
            },
            "colorscale": [
             [
              0,
              "#0d0887"
             ],
             [
              0.1111111111111111,
              "#46039f"
             ],
             [
              0.2222222222222222,
              "#7201a8"
             ],
             [
              0.3333333333333333,
              "#9c179e"
             ],
             [
              0.4444444444444444,
              "#bd3786"
             ],
             [
              0.5555555555555556,
              "#d8576b"
             ],
             [
              0.6666666666666666,
              "#ed7953"
             ],
             [
              0.7777777777777778,
              "#fb9f3a"
             ],
             [
              0.8888888888888888,
              "#fdca26"
             ],
             [
              1,
              "#f0f921"
             ]
            ],
            "type": "surface"
           }
          ],
          "table": [
           {
            "cells": {
             "fill": {
              "color": "#EBF0F8"
             },
             "line": {
              "color": "white"
             }
            },
            "header": {
             "fill": {
              "color": "#C8D4E3"
             },
             "line": {
              "color": "white"
             }
            },
            "type": "table"
           }
          ]
         },
         "layout": {
          "annotationdefaults": {
           "arrowcolor": "#2a3f5f",
           "arrowhead": 0,
           "arrowwidth": 1
          },
          "autotypenumbers": "strict",
          "coloraxis": {
           "colorbar": {
            "outlinewidth": 0,
            "ticks": ""
           }
          },
          "colorscale": {
           "diverging": [
            [
             0,
             "#8e0152"
            ],
            [
             0.1,
             "#c51b7d"
            ],
            [
             0.2,
             "#de77ae"
            ],
            [
             0.3,
             "#f1b6da"
            ],
            [
             0.4,
             "#fde0ef"
            ],
            [
             0.5,
             "#f7f7f7"
            ],
            [
             0.6,
             "#e6f5d0"
            ],
            [
             0.7,
             "#b8e186"
            ],
            [
             0.8,
             "#7fbc41"
            ],
            [
             0.9,
             "#4d9221"
            ],
            [
             1,
             "#276419"
            ]
           ],
           "sequential": [
            [
             0,
             "#0d0887"
            ],
            [
             0.1111111111111111,
             "#46039f"
            ],
            [
             0.2222222222222222,
             "#7201a8"
            ],
            [
             0.3333333333333333,
             "#9c179e"
            ],
            [
             0.4444444444444444,
             "#bd3786"
            ],
            [
             0.5555555555555556,
             "#d8576b"
            ],
            [
             0.6666666666666666,
             "#ed7953"
            ],
            [
             0.7777777777777778,
             "#fb9f3a"
            ],
            [
             0.8888888888888888,
             "#fdca26"
            ],
            [
             1,
             "#f0f921"
            ]
           ],
           "sequentialminus": [
            [
             0,
             "#0d0887"
            ],
            [
             0.1111111111111111,
             "#46039f"
            ],
            [
             0.2222222222222222,
             "#7201a8"
            ],
            [
             0.3333333333333333,
             "#9c179e"
            ],
            [
             0.4444444444444444,
             "#bd3786"
            ],
            [
             0.5555555555555556,
             "#d8576b"
            ],
            [
             0.6666666666666666,
             "#ed7953"
            ],
            [
             0.7777777777777778,
             "#fb9f3a"
            ],
            [
             0.8888888888888888,
             "#fdca26"
            ],
            [
             1,
             "#f0f921"
            ]
           ]
          },
          "colorway": [
           "#636efa",
           "#EF553B",
           "#00cc96",
           "#ab63fa",
           "#FFA15A",
           "#19d3f3",
           "#FF6692",
           "#B6E880",
           "#FF97FF",
           "#FECB52"
          ],
          "font": {
           "color": "#2a3f5f"
          },
          "geo": {
           "bgcolor": "white",
           "lakecolor": "white",
           "landcolor": "#E5ECF6",
           "showlakes": true,
           "showland": true,
           "subunitcolor": "white"
          },
          "hoverlabel": {
           "align": "left"
          },
          "hovermode": "closest",
          "mapbox": {
           "style": "light"
          },
          "paper_bgcolor": "white",
          "plot_bgcolor": "#E5ECF6",
          "polar": {
           "angularaxis": {
            "gridcolor": "white",
            "linecolor": "white",
            "ticks": ""
           },
           "bgcolor": "#E5ECF6",
           "radialaxis": {
            "gridcolor": "white",
            "linecolor": "white",
            "ticks": ""
           }
          },
          "scene": {
           "xaxis": {
            "backgroundcolor": "#E5ECF6",
            "gridcolor": "white",
            "gridwidth": 2,
            "linecolor": "white",
            "showbackground": true,
            "ticks": "",
            "zerolinecolor": "white"
           },
           "yaxis": {
            "backgroundcolor": "#E5ECF6",
            "gridcolor": "white",
            "gridwidth": 2,
            "linecolor": "white",
            "showbackground": true,
            "ticks": "",
            "zerolinecolor": "white"
           },
           "zaxis": {
            "backgroundcolor": "#E5ECF6",
            "gridcolor": "white",
            "gridwidth": 2,
            "linecolor": "white",
            "showbackground": true,
            "ticks": "",
            "zerolinecolor": "white"
           }
          },
          "shapedefaults": {
           "line": {
            "color": "#2a3f5f"
           }
          },
          "ternary": {
           "aaxis": {
            "gridcolor": "white",
            "linecolor": "white",
            "ticks": ""
           },
           "baxis": {
            "gridcolor": "white",
            "linecolor": "white",
            "ticks": ""
           },
           "bgcolor": "#E5ECF6",
           "caxis": {
            "gridcolor": "white",
            "linecolor": "white",
            "ticks": ""
           }
          },
          "title": {
           "x": 0.05
          },
          "xaxis": {
           "automargin": true,
           "gridcolor": "white",
           "linecolor": "white",
           "ticks": "",
           "title": {
            "standoff": 15
           },
           "zerolinecolor": "white",
           "zerolinewidth": 2
          },
          "yaxis": {
           "automargin": true,
           "gridcolor": "white",
           "linecolor": "white",
           "ticks": "",
           "title": {
            "standoff": 15
           },
           "zerolinecolor": "white",
           "zerolinewidth": 2
          }
         }
        },
        "title": {
         "text": "SEVCON Efficiency"
        },
        "width": 500
       }
      }
     },
     "metadata": {},
     "output_type": "display_data"
    }
   ],
   "source": [
    "fig5 = go.Figure(data=[go.Surface(z=((sevcon_eff_arr)),x = sevcon_eff_trq, y = sevcon_eff_rpm)])\n",
    "\n",
    "fig5.update_layout(title='SEVCON Efficiency', autosize=False,\n",
    "                  width=500, height=500,\n",
    "                  margin=dict(l=65, r=50, b=65, t=90))\n",
    "\n",
    "fig5.show()"
   ]
  },
  {
   "cell_type": "code",
   "execution_count": 25,
   "metadata": {},
   "outputs": [],
   "source": [
    "try:\n",
    "    sevcon_eff_dc = []\n",
    "    # sevcon_eff_dc1 = []\n",
    "    for actual_torque, actual_rpm in zip(drive_itorque_mtr, rpm_mtr):\n",
    "        # sevcon_eff_dc.append(sevcon_eff_arr[int(actual_rpm//500),int(actual_torque/10)])\n",
    "        sevcon_eff_dc.append(sevcon_eff_arr[int(np.digitize(actual_rpm, sevcon_eff_rpm) - 1),int(np.digitize(actual_torque, sevcon_eff_trq) - 1)])\n",
    "         \n",
    "except Exception:\n",
    "    print(\"out of bounds\")\n",
    "    sevcon_eff_dc = []\n",
    "    for actual_torque, actual_rpm in zip(drive_itorque_mtr, rpm_mtr):\n",
    "        # if actual_torque >= 0:\n",
    "            sevcon_eff_dc.append(80)\n",
    "sevcon_eff_dc = np.array(sevcon_eff_dc)"
   ]
  },
  {
   "cell_type": "code",
   "execution_count": 26,
   "metadata": {},
   "outputs": [],
   "source": [
    "def apply_eff_map(actual_torque, actual_rpm, sevcon_eff_arr, rpm_bin_edges, torque_bin_edges):\n",
    "    # Use numpy's searchsorted function to find the index of the bin edge for actual_rpm\n",
    "    rpm_bin_indices = np.searchsorted(rpm_bin_edges, actual_rpm) - 1\n",
    "    \n",
    "    # Use numpy's searchsorted function to find the index of the bin edge for actual_torque\n",
    "    torque_bin_indices = np.searchsorted(torque_bin_edges, actual_torque) - 1\n",
    "    \n",
    "    # Clip indices to ensure they are within valid range\n",
    "    rpm_bin_indices = np.clip(rpm_bin_indices, 0, len(rpm_bin_edges) - 2)\n",
    "    torque_bin_indices = np.clip(torque_bin_indices, 0, len(torque_bin_edges) - 2)\n",
    "\n",
    "    # Create an array to store the binned values\n",
    "    sevcon_eff_dc = sevcon_eff_arr[rpm_bin_indices, torque_bin_indices]\n",
    "\n",
    "    return sevcon_eff_dc"
   ]
  },
  {
   "cell_type": "code",
   "execution_count": 27,
   "metadata": {},
   "outputs": [],
   "source": [
    "sevcon_eff_dc = apply_eff_map(drive_itorque_mtr,\n",
    "rpm_mtr,sevcon_eff_arr,\n",
    "sevcon_eff_map.index.to_numpy().astype(float),\n",
    "sevcon_eff_map.columns.to_numpy().astype(float))"
   ]
  },
  {
   "cell_type": "code",
   "execution_count": 28,
   "metadata": {},
   "outputs": [],
   "source": [
    "total_mtr_system_eff_dc = sevcon_eff_dc/100"
   ]
  },
  {
   "cell_type": "code",
   "execution_count": 29,
   "metadata": {},
   "outputs": [],
   "source": [
    "total_itorque_mtr = brake_itorque_mtr + drive_itorque_mtr\n",
    "df_total_itorque_mtr  = pd.DataFrame()\n",
    "df_total_itorque_mtr[\"drive_itorque_mtr\"]= drive_itorque_mtr\n",
    "df_total_itorque_mtr[\"total_itorque_mtr\"] = total_itorque_mtr\n",
    "df_total_itorque_mtr[\"rpm_mtr\"] = rpm_mtr\n",
    "df_total_itorque_mtr[\"total_mtr_system_eff_dc\"] =   total_mtr_system_eff_dc\n",
    "# df_total_itorque_mtr[\"total_mtr_system_eff_dc\"] =   np.full_like(total_mtr_system_eff_dc, 80)\n",
    "df_total_itorque_mtr[\"speed_kmph\"] = df_drivecycle[\"avg_speed_kmph\"]\n",
    "df_total_itorque_mtr[\"time_s\"] = df_drivecycle[\"time_s\"]"
   ]
  },
  {
   "cell_type": "code",
   "execution_count": 30,
   "metadata": {},
   "outputs": [],
   "source": [
    "# neglect regen efficiency\n",
    "df_total_itorque_mtr.loc[df_total_itorque_mtr[\"total_itorque_mtr\"]<0,'total_mtr_system_eff_dc'] = np.nan"
   ]
  },
  {
   "cell_type": "code",
   "execution_count": 31,
   "metadata": {},
   "outputs": [
    {
     "data": {
      "image/png": "[encoded data removed]",
      "text/plain": [
       "<Figure size 2000x400 with 1 Axes>"
      ]
     },
     "metadata": {},
     "output_type": "display_data"
    }
   ],
   "source": [
    "fig3 = sns.lineplot(data=df_total_itorque_mtr, x=\"time_s\", y=\"speed_kmph\",linewidth = 0.7, color = \"black\")\n",
    "fig3 = sns.scatterplot(data=df_total_itorque_mtr, x=\"time_s\", y=\"speed_kmph\", hue=\"total_mtr_system_eff_dc\",  palette = \"rocket_r\", linewidth = 0 )\n",
    "sns.move_legend(fig3, \"upper left\", bbox_to_anchor=(1, 1))\n",
    "fig3.grid()\n"
   ]
  },
  {
   "cell_type": "code",
   "execution_count": 32,
   "metadata": {},
   "outputs": [],
   "source": [
    "total_mtr_eff_arr = sevcon_eff_arr/100\n",
    "total_mtr_eff_arr= (total_mtr_eff_arr.transpose())"
   ]
  },
  {
   "cell_type": "code",
   "execution_count": 33,
   "metadata": {},
   "outputs": [
    {
     "data": {
      "text/plain": [
       "Text(0, 0.5, 'Torque')"
      ]
     },
     "execution_count": 33,
     "metadata": {},
     "output_type": "execute_result"
    },
    {
     "data": {
      "image/png": "[encoded data removed]",
      "text/plain": [
       "<Figure size 2000x400 with 1 Axes>"
      ]
     },
     "metadata": {},
     "output_type": "display_data"
    }
   ],
   "source": [
    "rpm = sevcon_eff_map.index.to_numpy().astype(float)\n",
    "torque = sevcon_eff_map.columns.to_numpy().astype(float)\n",
    "\n",
    "[X, Y] = np.meshgrid(rpm, torque)  \n",
    "Z = total_mtr_eff_arr\n",
    "\n",
    "fig, ax = plt.subplots(1,1)\n",
    "# cs = ax.contourf(X, Y, Z)\n",
    "# cbar = fig.colorbar(cs)\n",
    "# ax = sns.scatterplot(data=df_total_itorque_mtr, x=\"rpm_mtr\", y=\"drive_itorque_mtr\", color = \"blue\", linewidth = 1, marker= \"x\")\n",
    "ax = sns.scatterplot(data=df_total_itorque_mtr, x=\"rpm_mtr\", y=\"total_itorque_mtr\", color = \"blue\", linewidth = 1, marker= \"x\")\n",
    "ax.set_xlabel(\"RPM\")\n",
    "ax.set_ylabel(\"Torque\")\n",
    "# ax.legend().set_visible(False)\n",
    "# ax.set_xlim(0,max(df_total_itorque_mtr[\"rpm_mtr\"])+100)\n",
    "# ax.set_ylim(0,max(df_total_itorque_mtr[\"drive_itorque_mtr\"])+5)\n",
    "# fig.show()"
   ]
  },
  {
   "attachments": {},
   "cell_type": "markdown",
   "metadata": {},
   "source": [
    "## Stats generation"
   ]
  },
  {
   "cell_type": "code",
   "execution_count": 34,
   "metadata": {},
   "outputs": [],
   "source": [
    "time = df_total_itorque_mtr['time_s']\n",
    "speed = df_total_itorque_mtr['speed_kmph']\n",
    "mtr_sys_eff = df_total_itorque_mtr['total_mtr_system_eff_dc']"
   ]
  },
  {
   "cell_type": "code",
   "execution_count": 35,
   "metadata": {},
   "outputs": [],
   "source": [
    "diff = [((speed[i+1]-speed[i-1])/3.6)/(time[i+1]-time[i-1]) for i in np.arange(1,len(time)-1)]\n",
    "accn_mps2 = np.insert(diff,0,0)\n",
    "accn_mps2 = np.append(accn_mps2,0)"
   ]
  },
  {
   "cell_type": "markdown",
   "metadata": {},
   "source": [
    "### SAFD generation"
   ]
  },
  {
   "cell_type": "code",
   "execution_count": 36,
   "metadata": {},
   "outputs": [],
   "source": [
    "def safd_matrix(speed,accn_mps2,size):\n",
    "\n",
    "    #bins\n",
    "    bins_speed = np.round(np.arange(0,np.ceil(speed.max())+10,10).tolist(),2)\n",
    "    bins_accn = np.round(np.arange(np.ceil(accn_mps2.min()*10)/10-0.1,np.ceil(accn_mps2.max()*10)/10+0.1,0.1).tolist(),2)\n",
    "\n",
    "    speed_states = np.digitize(speed, bins_speed) - 1\n",
    "    accn_states = np.digitize(accn_mps2, bins_accn) - 1\n",
    "\n",
    "    df_states = pd.DataFrame()\n",
    "    df_states['speed_states'] = speed_states\n",
    "    df_states['accn_states'] = accn_states\n",
    "\n",
    "    safd_matrix = np.zeros([len(bins_accn),len(bins_speed)])\n",
    "\n",
    "    speed_lable = []\n",
    "    for t in np.arange(len(bins_speed)-1):\n",
    "        speed_lable.append(str(bins_speed[t])+'-'+str(bins_speed[t+1]))\n",
    "\n",
    "    accn_lable = []\n",
    "    for t in np.arange(len(bins_accn)-1):\n",
    "        accn_lable.append(str(bins_accn[t])+'-'+str(bins_accn[t+1]))\n",
    "\n",
    "    for i in range(len(bins_accn)):\n",
    "        j = 0\n",
    "        for j in range(len(bins_speed)):\n",
    "            safd_matrix[i,j] = len(df_states[(df_states['speed_states'] == j)&(df_states['accn_states'] == i)])\n",
    "\n",
    "    df_safd_matrix = pd.DataFrame(safd_matrix)\n",
    "    df_safd_matrix.drop(df_safd_matrix.index[-1], inplace=True)\n",
    "    df_safd_matrix.drop(df_safd_matrix.columns[-1], axis=1, inplace=True)\n",
    "\n",
    "    fig,ax = plt.subplots(figsize=size)\n",
    "    # heatmap = ax.imshow(df_safd_matrix.values, cmap = 'viridis',aspect='auto')\n",
    "    heatmap = ax.imshow(df_safd_matrix.values, cmap = 'viridis',aspect='auto', vmax=500)\n",
    "    ax.set_xticks(np.arange(len(speed_lable)))\n",
    "    ax.set_yticks(np.arange(len(accn_lable)))\n",
    "    ax.set_xticklabels(speed_lable)\n",
    "    ax.set_yticklabels(accn_lable)\n",
    "    for i in range(len(accn_lable)):\n",
    "        for j in range(len(speed_lable)):\n",
    "            text = ax.text(j, i, '{:.0f}'.format(safd_matrix[i, j]),\n",
    "                        ha=\"center\", va=\"center\", color=\"w\")\n",
    "\n",
    "    cbar = plt.colorbar(heatmap)\n",
    "    return df_safd_matrix"
   ]
  },
  {
   "cell_type": "markdown",
   "metadata": {},
   "source": [
    "### power and energy"
   ]
  },
  {
   "cell_type": "code",
   "execution_count": 37,
   "metadata": {},
   "outputs": [],
   "source": [
    "import plotly.express as px\n",
    "\n",
    "def energy_calc(time,speed,accn_mps2, mtr_sys_eff, vehicle_param, coastdown_param, veh0_coast1):\n",
    "    df_energy = pd.DataFrame()\n",
    "    df_energy['time_s'] = time\n",
    "    df_energy['speed_kmph'] = speed\n",
    "    df_energy['accn_mps2'] = accn_mps2\n",
    "    df_energy['dist_km'] = ((((df_energy['speed_kmph'].add(df_energy['speed_kmph'].shift(1)))/(2*3600))*(df_energy['time_s'] .sub(df_energy['time_s'] .shift(1)))).fillna(0)).cumsum()\n",
    "\n",
    "    if veh0_coast1 == 0:\n",
    "        # Fr = (0.01*(1+df_drivecycle['avg_speed_kmph'].to_numpy()/(3.6*100)))*vehicle_param['mass']*vehicle_param['g']*math.cos(math.radians(vehicle_param['gradient'])) #for speed under 128kmph\n",
    "        df_energy['Fr'] = vehicle_param['c_rr']*vehicle_param['mass']*vehicle_param['g']*math.cos(math.radians(vehicle_param['gradient']))\n",
    "        df_energy['Far'] = (0.5*vehicle_param['rho']*vehicle_param['f_area']*vehicle_param['c_d']/3.6**2)*(df_drivecycle['avg_speed_kmph'].to_numpy()+vehicle_param['v_air'])**2\n",
    "        df_energy['Fgr'] = vehicle_param['c_rr']*vehicle_param['mass']*vehicle_param['g']*math.sin(math.radians(vehicle_param['gradient']))\n",
    "        df_energy['Fac'] = vehicle_param['mass']*df_drivecycle['avg_accn_mps2'].to_numpy()\n",
    "        df_energy['Ft'] = df_energy['Fr']+ df_energy['Far'] + df_energy['Fgr'] + df_energy['Fac']\n",
    "        # print('F_calc')\n",
    "    else:\n",
    "        df_energy['Fr'] = coastdown_param['A']\n",
    "        df_energy['Far'] = coastdown_param['C']*df_drivecycle['avg_speed_kmph']**2\n",
    "        df_energy['Fac'] = coastdown_param['mass']*df_drivecycle['avg_accn_mps2']\n",
    "        df_energy['Fb'] = coastdown_param['B']*df_drivecycle['avg_speed_kmph']\n",
    "        df_energy['Ft'] = df_energy['Fr'] + df_energy['Far'] + df_energy['Fac'] + df_energy['Fb']\n",
    "\n",
    "    # power\n",
    "    df_energy['m_pwr_kW'] = (df_energy['Ft'] * df_energy['speed_kmph']/3.6)/1000 \n",
    "    df_energy['e_pwr_kW'] = df_energy['m_pwr_kW'] / mtr_sys_eff\n",
    "\n",
    "    # energy\n",
    "    df_energy['m_energy_Wh'] = ((((df_energy['m_pwr_kW'].add(df_energy['m_pwr_kW'].shift(1)))*1000/(2*3600))*(df_energy['time_s'] .sub(df_energy['time_s'] .shift(1)))).fillna(0)).cumsum()\n",
    "    df_energy['e_energy_Wh'] = ((((df_energy['e_pwr_kW'].add(df_energy['e_pwr_kW'].shift(1)))*1000/(2*3600))*(df_energy['time_s'] .sub(df_energy['time_s'] .shift(1)))).fillna(0)).cumsum()\n",
    "\n",
    "    #Wh/km\n",
    "    df_energy['m_Wh/km'] = ((df_energy['m_energy_Wh'])/df_energy['dist_km']).fillna(0)\n",
    "    df_energy['e_Wh/km'] = ((df_energy['e_energy_Wh'])/df_energy['dist_km']).fillna(0)\n",
    "\n",
    "    #current and voltage curve\n",
    "    df_energy['pack_voltage_V'] = vehicle_param['pack_voltage_V']\n",
    "    df_energy['pack_current_A'] = df_energy['e_pwr_kW']*1000 / df_energy['pack_voltage_V']\n",
    "    df_energy['delta_voltage_V_ir'] = vehicle_param['pack_resistance_ohm'] * df_energy['pack_current_A']\n",
    "    # df_energy['pack_voltage_V_w_ir'] = vehicle_param['pack_voltage_V'] + df_energy['pack_voltage_V_ir']\n",
    "    df_energy['pack_voltage_V_w_ir'] = df_energy['pack_voltage_V'] - df_energy['delta_voltage_V_ir']\n",
    "    df_energy['pack_current_A_w_ir'] = df_energy['e_pwr_kW']*1000 / df_energy['pack_voltage_V_w_ir']\n",
    "\n",
    "    df_energy = df_energy.round(2)\n",
    "\n",
    "    fig = px.line(df_energy,x = 'time_s',y = df_energy.columns)\n",
    "    display(fig)\n",
    "    return df_energy"
   ]
  },
  {
   "cell_type": "code",
   "execution_count": 38,
   "metadata": {},
   "outputs": [],
   "source": [
    "def stats(df_energy,vehicle_param):\n",
    "    stats = {}\n",
    "    stats['total_time_s'] = df_energy['time_s'].max()\n",
    "    stats['dist_km'] = df_energy['dist_km'].max()\n",
    "    stats['max_speed_kmph'] = df_energy['speed_kmph'].max()\n",
    "    stats['avg_speed_kmph'] = df_energy['speed_kmph'].mean().round(2)\n",
    "    stats['max_positive_accn_mps2'] = df_energy['accn_mps2'].max()\n",
    "    stats['max_negative_accn_mps2'] = df_energy['accn_mps2'].min()\n",
    "    stats['rms_positive_accn_mps2'] = round(np.sqrt(np.mean(df_energy.loc[df_energy['accn_mps2']>0,'accn_mps2'] ** 2)),2)\n",
    "    stats['rms_negative_accn_mps2'] = round(np.sqrt(np.mean(df_energy.loc[df_energy['accn_mps2']<0,'accn_mps2'] ** 2)),2)\n",
    "    stats['avg_m_power_kW'] = df_energy['m_pwr_kW'].mean().round(2)\n",
    "    stats['avg_e_power_kW'] = df_energy['e_pwr_kW'].mean().round(2)\n",
    "    stats['max_m_power_kW'] = df_energy['m_pwr_kW'].max()\n",
    "    stats['max_e_power_kW'] = df_energy['e_pwr_kW'].max()\n",
    "    stats['total_m_energy_Wh'] = df_energy['m_energy_Wh'].iloc[-1]\n",
    "    stats['total_e_energy_Wh'] = df_energy['e_energy_Wh'].iloc[-1]\n",
    "    stats['m_Wh/km'] = df_energy['m_Wh/km'].iloc[-1]\n",
    "    stats['e_Wh/km'] = df_energy['e_Wh/km'].iloc[-1]\n",
    "    # stats['energy_eff'] = round(stats['total_m_energy_Wh']/stats['total_e_energy_Wh'] * 100,2)\n",
    "    stats['mech_eff'] = round(vehicle_param['Eff_chain']*vehicle_param['Eff_gb']*100,2)\n",
    "    stats['ele_eff'] = round(stats['m_Wh/km']/stats['e_Wh/km'] * 100,2)\n",
    "    stats['sys_eff'] = round(stats['mech_eff']*stats['ele_eff'] / 100,2)\n",
    "    stats['pack_voltage_V'] = vehicle_param['pack_voltage_V']\n",
    "    stats['max_pack_current_A'] = max(df_energy['pack_current_A'])\n",
    "    stats['min_pack_current_A'] = min(df_energy['pack_current_A'])\n",
    "    stats['pack_internal_resistance_ohms'] = vehicle_param['pack_resistance_ohm']\n",
    "    return stats"
   ]
  },
  {
   "cell_type": "code",
   "execution_count": null,
   "metadata": {},
   "outputs": [],
   "source": [
    "df_safd_matrix = safd_matrix(speed,accn_mps2,[30,30])"
   ]
  },
  {
   "cell_type": "code",
   "execution_count": 39,
   "metadata": {},
   "outputs": [
    {
     "data": {
      "application/vnd.plotly.v1+json": {
       "config": {
        "plotlyServerURL": "https://plot.ly"
       },
       "data": [
        {
         "hovertemplate": "variable=speed_kmph<br>time_s=%{x}<br>value=%{y}<extra></extra>",
         "legendgroup": "speed_kmph",
         "line": {
          "color": "#636efa",
          "dash": "solid"
         },
         "marker": {
          "symbol": "circle"
         },
         "mode": "lines",
         "name": "speed_kmph",
         "showlegend": true,
         "type": "scattergl",
         "x": [
          0,
          1,
          2,
          3,
          4,
          5,
          6,
          7,
          8,
          9,
          10,
          11,
          12,
          13,
          14,
          15,
          16,
          17,
          18,
          19,
          20,
          21,
          22,
          23,
          24,
          25,
          26,
          27,
          28,
          29,
          30,
          31,
          32,
          33,
          34,
          35,
          36,
          37,
          38,
          39,
          40,
          41,
          42,
          43,
          44,
          45,
          46,
          47,
          48,
          49,
          50,
          51,
          52,
          53,
          54,
          55,
          56,
          57,
          58,
          59,
          60,
          61,
          62,
          63,
          64,
          65,
          66,
          67,
          68,
          69,
          70,
          71,
          72,
          73,
          74,
          75,
          76,
          77,
          78,
          79,
          80,
          81,
          82,
          83,
          84,
          85,
          86,
          87,
          88,
          89,
          90,
          91,
          92,
          93,
          94,
          95,
          96,
          97,
          98,
          99,
          100,
          101,
          102,
          103,
          104,
          105,
          106,
          107,
          108
         ],
         "xaxis": "x",
         "y": [
          0,
          0,
          0,
          0,
          0,
          0,
          0,
          0,
          0,
          0,
          0,
          0,
          0,
          0,
          0,
          0,
          0,
          2.33,
          4.67,
          7,
          9.33,
          11.67,
          14,
          16,
          18,
          20,
          22,
          19.75,
          17.5,
          15.25,
          13,
          13,
          13,
          15,
          17,
          19,
          21,
          23,
          24.6,
          26.2,
          27.8,
          29.4,
          31,
          29,
          27,
          25,
          25,
          25,
          25,
          25,
          23,
          21,
          22.62,
          24.25,
          25.88,
          27.5,
          29.12,
          30.75,
          32.38,
          34,
          35.14,
          36.29,
          37.43,
          38.57,
          39.71,
          40.86,
          42,
          40.33,
          38.67,
          37,
          37,
          37,
          37,
          37,
          37,
          37,
          37,
          35.5,
          34,
          35.14,
          36.29,
          37.43,
          38.57,
          39.71,
          40.86,
          42,
          40.33,
          38.67,
          37,
          35.33,
          33.67,
          32,
          30.33,
          28.67,
          27,
          25.14,
          23.29,
          21.43,
          19.57,
          17.71,
          15.86,
          14,
          12,
          10,
          8,
          6,
          4,
          2,
          0
         ],
         "yaxis": "y"
        },
        {
         "hovertemplate": "variable=accn_mps2<br>time_s=%{x}<br>value=%{y}<extra></extra>",
         "legendgroup": "accn_mps2",
         "line": {
          "color": "#EF553B",
          "dash": "solid"
         },
         "marker": {
          "symbol": "circle"
         },
         "mode": "lines",
         "name": "accn_mps2",
         "showlegend": true,
         "type": "scattergl",
         "x": [
          0,
          1,
          2,
          3,
          4,
          5,
          6,
          7,
          8,
          9,
          10,
          11,
          12,
          13,
          14,
          15,
          16,
          17,
          18,
          19,
          20,
          21,
          22,
          23,
          24,
          25,
          26,
          27,
          28,
          29,
          30,
          31,
          32,
          33,
          34,
          35,
          36,
          37,
          38,
          39,
          40,
          41,
          42,
          43,
          44,
          45,
          46,
          47,
          48,
          49,
          50,
          51,
          52,
          53,
          54,
          55,
          56,
          57,
          58,
          59,
          60,
          61,
          62,
          63,
          64,
          65,
          66,
          67,
          68,
          69,
          70,
          71,
          72,
          73,
          74,
          75,
          76,
          77,
          78,
          79,
          80,
          81,
          82,
          83,
          84,
          85,
          86,
          87,
          88,
          89,
          90,
          91,
          92,
          93,
          94,
          95,
          96,
          97,
          98,
          99,
          100,
          101,
          102,
          103,
          104,
          105,
          106,
          107,
          108
         ],
         "xaxis": "x",
         "y": [
          0,
          0,
          0,
          0,
          0,
          0,
          0,
          0,
          0,
          0,
          0,
          0,
          0,
          0,
          0,
          0,
          0.32,
          0.65,
          0.65,
          0.65,
          0.65,
          0.65,
          0.6,
          0.56,
          0.56,
          0.56,
          -0.03,
          -0.62,
          -0.62,
          -0.62,
          -0.31,
          0,
          0.28,
          0.56,
          0.56,
          0.56,
          0.56,
          0.5,
          0.44,
          0.44,
          0.44,
          0.44,
          -0.06,
          -0.56,
          -0.56,
          -0.28,
          0,
          0,
          0,
          -0.28,
          -0.56,
          -0.05,
          0.45,
          0.45,
          0.45,
          0.45,
          0.45,
          0.45,
          0.45,
          0.38,
          0.32,
          0.32,
          0.32,
          0.32,
          0.32,
          0.32,
          -0.07,
          -0.46,
          -0.46,
          -0.23,
          0,
          0,
          0,
          0,
          0,
          0,
          -0.21,
          -0.42,
          -0.05,
          0.32,
          0.32,
          0.32,
          0.32,
          0.32,
          0.32,
          -0.07,
          -0.46,
          -0.46,
          -0.46,
          -0.46,
          -0.46,
          -0.46,
          -0.46,
          -0.46,
          -0.49,
          -0.52,
          -0.52,
          -0.52,
          -0.52,
          -0.52,
          -0.52,
          -0.54,
          -0.56,
          -0.56,
          -0.56,
          -0.56,
          -0.56,
          -0.56,
          0
         ],
         "yaxis": "y"
        },
        {
         "hovertemplate": "variable=dist_km<br>time_s=%{x}<br>value=%{y}<extra></extra>",
         "legendgroup": "dist_km",
         "line": {
          "color": "#00cc96",
          "dash": "solid"
         },
         "marker": {
          "symbol": "circle"
         },
         "mode": "lines",
         "name": "dist_km",
         "showlegend": true,
         "type": "scattergl",
         "x": [
          0,
          1,
          2,
          3,
          4,
          5,
          6,
          7,
          8,
          9,
          10,
          11,
          12,
          13,
          14,
          15,
          16,
          17,
          18,
          19,
          20,
          21,
          22,
          23,
          24,
          25,
          26,
          27,
          28,
          29,
          30,
          31,
          32,
          33,
          34,
          35,
          36,
          37,
          38,
          39,
          40,
          41,
          42,
          43,
          44,
          45,
          46,
          47,
          48,
          49,
          50,
          51,
          52,
          53,
          54,
          55,
          56,
          57,
          58,
          59,
          60,
          61,
          62,
          63,
          64,
          65,
          66,
          67,
          68,
          69,
          70,
          71,
          72,
          73,
          74,
          75,
          76,
          77,
          78,
          79,
          80,
          81,
          82,
          83,
          84,
          85,
          86,
          87,
          88,
          89,
          90,
          91,
          92,
          93,
          94,
          95,
          96,
          97,
          98,
          99,
          100,
          101,
          102,
          103,
          104,
          105,
          106,
          107,
          108
         ],
         "xaxis": "x",
         "y": [
          0,
          0,
          0,
          0,
          0,
          0,
          0,
          0,
          0,
          0,
          0,
          0,
          0,
          0,
          0,
          0,
          0,
          0,
          0,
          0,
          0.01,
          0.01,
          0.01,
          0.02,
          0.02,
          0.03,
          0.03,
          0.04,
          0.04,
          0.05,
          0.05,
          0.05,
          0.06,
          0.06,
          0.07,
          0.07,
          0.08,
          0.08,
          0.09,
          0.1,
          0.1,
          0.11,
          0.12,
          0.13,
          0.14,
          0.14,
          0.15,
          0.16,
          0.16,
          0.17,
          0.18,
          0.18,
          0.19,
          0.2,
          0.2,
          0.21,
          0.22,
          0.23,
          0.24,
          0.25,
          0.26,
          0.27,
          0.28,
          0.29,
          0.3,
          0.31,
          0.32,
          0.33,
          0.34,
          0.35,
          0.36,
          0.37,
          0.38,
          0.39,
          0.4,
          0.41,
          0.42,
          0.43,
          0.44,
          0.45,
          0.46,
          0.47,
          0.48,
          0.5,
          0.51,
          0.52,
          0.53,
          0.54,
          0.55,
          0.56,
          0.57,
          0.58,
          0.59,
          0.6,
          0.6,
          0.61,
          0.62,
          0.62,
          0.63,
          0.64,
          0.64,
          0.64,
          0.65,
          0.65,
          0.65,
          0.66,
          0.66,
          0.66,
          0.66
         ],
         "yaxis": "y"
        },
        {
         "hovertemplate": "variable=Fr<br>time_s=%{x}<br>value=%{y}<extra></extra>",
         "legendgroup": "Fr",
         "line": {
          "color": "#ab63fa",
          "dash": "solid"
         },
         "marker": {
          "symbol": "circle"
         },
         "mode": "lines",
         "name": "Fr",
         "showlegend": true,
         "type": "scattergl",
         "x": [
          0,
          1,
          2,
          3,
          4,
          5,
          6,
          7,
          8,
          9,
          10,
          11,
          12,
          13,
          14,
          15,
          16,
          17,
          18,
          19,
          20,
          21,
          22,
          23,
          24,
          25,
          26,
          27,
          28,
          29,
          30,
          31,
          32,
          33,
          34,
          35,
          36,
          37,
          38,
          39,
          40,
          41,
          42,
          43,
          44,
          45,
          46,
          47,
          48,
          49,
          50,
          51,
          52,
          53,
          54,
          55,
          56,
          57,
          58,
          59,
          60,
          61,
          62,
          63,
          64,
          65,
          66,
          67,
          68,
          69,
          70,
          71,
          72,
          73,
          74,
          75,
          76,
          77,
          78,
          79,
          80,
          81,
          82,
          83,
          84,
          85,
          86,
          87,
          88,
          89,
          90,
          91,
          92,
          93,
          94,
          95,
          96,
          97,
          98,
          99,
          100,
          101,
          102,
          103,
          104,
          105,
          106,
          107,
          108
         ],
         "xaxis": "x",
         "y": [
          55.25,
          55.25,
          55.25,
          55.25,
          55.25,
          55.25,
          55.25,
          55.25,
          55.25,
          55.25,
          55.25,
          55.25,
          55.25,
          55.25,
          55.25,
          55.25,
          55.25,
          55.25,
          55.25,
          55.25,
          55.25,
          55.25,
          55.25,
          55.25,
          55.25,
          55.25,
          55.25,
          55.25,
          55.25,
          55.25,
          55.25,
          55.25,
          55.25,
          55.25,
          55.25,
          55.25,
          55.25,
          55.25,
          55.25,
          55.25,
          55.25,
          55.25,
          55.25,
          55.25,
          55.25,
          55.25,
          55.25,
          55.25,
          55.25,
          55.25,
          55.25,
          55.25,
          55.25,
          55.25,
          55.25,
          55.25,
          55.25,
          55.25,
          55.25,
          55.25,
          55.25,
          55.25,
          55.25,
          55.25,
          55.25,
          55.25,
          55.25,
          55.25,
          55.25,
          55.25,
          55.25,
          55.25,
          55.25,
          55.25,
          55.25,
          55.25,
          55.25,
          55.25,
          55.25,
          55.25,
          55.25,
          55.25,
          55.25,
          55.25,
          55.25,
          55.25,
          55.25,
          55.25,
          55.25,
          55.25,
          55.25,
          55.25,
          55.25,
          55.25,
          55.25,
          55.25,
          55.25,
          55.25,
          55.25,
          55.25,
          55.25,
          55.25,
          55.25,
          55.25,
          55.25,
          55.25,
          55.25,
          55.25,
          55.25
         ],
         "yaxis": "y"
        },
        {
         "hovertemplate": "variable=Far<br>time_s=%{x}<br>value=%{y}<extra></extra>",
         "legendgroup": "Far",
         "line": {
          "color": "#FFA15A",
          "dash": "solid"
         },
         "marker": {
          "symbol": "circle"
         },
         "mode": "lines",
         "name": "Far",
         "showlegend": true,
         "type": "scattergl",
         "x": [
          0,
          1,
          2,
          3,
          4,
          5,
          6,
          7,
          8,
          9,
          10,
          11,
          12,
          13,
          14,
          15,
          16,
          17,
          18,
          19,
          20,
          21,
          22,
          23,
          24,
          25,
          26,
          27,
          28,
          29,
          30,
          31,
          32,
          33,
          34,
          35,
          36,
          37,
          38,
          39,
          40,
          41,
          42,
          43,
          44,
          45,
          46,
          47,
          48,
          49,
          50,
          51,
          52,
          53,
          54,
          55,
          56,
          57,
          58,
          59,
          60,
          61,
          62,
          63,
          64,
          65,
          66,
          67,
          68,
          69,
          70,
          71,
          72,
          73,
          74,
          75,
          76,
          77,
          78,
          79,
          80,
          81,
          82,
          83,
          84,
          85,
          86,
          87,
          88,
          89,
          90,
          91,
          92,
          93,
          94,
          95,
          96,
          97,
          98,
          99,
          100,
          101,
          102,
          103,
          104,
          105,
          106,
          107,
          108
         ],
         "xaxis": "x",
         "y": [
          0,
          0,
          0,
          0,
          0,
          0,
          0,
          0,
          0,
          0,
          0,
          0,
          0,
          0,
          0,
          0,
          0,
          0.14,
          0.54,
          1.22,
          2.16,
          3.38,
          4.87,
          6.36,
          8.04,
          9.93,
          12.02,
          9.69,
          7.6,
          5.77,
          4.2,
          4.2,
          4.2,
          5.59,
          7.18,
          8.96,
          10.95,
          13.14,
          15.03,
          17.04,
          19.19,
          21.46,
          23.86,
          20.88,
          18.1,
          15.52,
          15.52,
          15.52,
          15.52,
          15.52,
          13.14,
          10.95,
          12.71,
          14.6,
          16.62,
          18.78,
          21.06,
          23.48,
          26.03,
          28.7,
          30.67,
          32.69,
          34.78,
          36.94,
          39.16,
          41.45,
          43.8,
          40.39,
          37.12,
          33.99,
          33.99,
          33.99,
          33.99,
          33.99,
          33.99,
          33.99,
          33.99,
          31.29,
          28.7,
          30.67,
          32.69,
          34.78,
          36.94,
          39.16,
          41.45,
          43.8,
          40.39,
          37.12,
          33.99,
          31,
          28.14,
          25.43,
          22.85,
          20.4,
          18.1,
          15.7,
          13.46,
          11.4,
          9.51,
          7.79,
          6.24,
          4.87,
          3.58,
          2.48,
          1.59,
          0.89,
          0.4,
          0.1,
          0
         ],
         "yaxis": "y"
        },
        {
         "hovertemplate": "variable=Fac<br>time_s=%{x}<br>value=%{y}<extra></extra>",
         "legendgroup": "Fac",
         "line": {
          "color": "#19d3f3",
          "dash": "solid"
         },
         "marker": {
          "symbol": "circle"
         },
         "mode": "lines",
         "name": "Fac",
         "showlegend": true,
         "type": "scattergl",
         "x": [
          0,
          1,
          2,
          3,
          4,
          5,
          6,
          7,
          8,
          9,
          10,
          11,
          12,
          13,
          14,
          15,
          16,
          17,
          18,
          19,
          20,
          21,
          22,
          23,
          24,
          25,
          26,
          27,
          28,
          29,
          30,
          31,
          32,
          33,
          34,
          35,
          36,
          37,
          38,
          39,
          40,
          41,
          42,
          43,
          44,
          45,
          46,
          47,
          48,
          49,
          50,
          51,
          52,
          53,
          54,
          55,
          56,
          57,
          58,
          59,
          60,
          61,
          62,
          63,
          64,
          65,
          66,
          67,
          68,
          69,
          70,
          71,
          72,
          73,
          74,
          75,
          76,
          77,
          78,
          79,
          80,
          81,
          82,
          83,
          84,
          85,
          86,
          87,
          88,
          89,
          90,
          91,
          92,
          93,
          94,
          95,
          96,
          97,
          98,
          99,
          100,
          101,
          102,
          103,
          104,
          105,
          106,
          107,
          108
         ],
         "xaxis": "x",
         "y": [
          0,
          0,
          0,
          0,
          0,
          0,
          0,
          0,
          0,
          0,
          0,
          0,
          0,
          0,
          0,
          0,
          92.36,
          184.72,
          184.72,
          184.72,
          184.72,
          184.72,
          171.53,
          158.33,
          158.33,
          158.33,
          -9.9,
          -178.12,
          -178.12,
          -178.12,
          -89.06,
          0,
          79.17,
          158.33,
          158.33,
          158.33,
          158.33,
          142.5,
          126.67,
          126.67,
          126.67,
          126.67,
          -15.83,
          -158.33,
          -158.33,
          -79.17,
          0,
          0,
          0,
          -79.17,
          -158.33,
          -14.84,
          128.65,
          128.65,
          128.65,
          128.65,
          128.65,
          128.65,
          128.65,
          109.56,
          90.48,
          90.48,
          90.48,
          90.48,
          90.48,
          90.48,
          -20.73,
          -131.94,
          -131.94,
          -65.97,
          0,
          0,
          0,
          0,
          0,
          0,
          -59.37,
          -118.75,
          -14.14,
          90.48,
          90.48,
          90.48,
          90.48,
          90.48,
          90.48,
          -20.73,
          -131.94,
          -131.94,
          -131.94,
          -131.94,
          -131.94,
          -131.94,
          -131.94,
          -131.94,
          -139.48,
          -147.02,
          -147.02,
          -147.02,
          -147.02,
          -147.02,
          -147.02,
          -152.68,
          -158.33,
          -158.33,
          -158.33,
          -158.33,
          -158.33,
          -158.33,
          0
         ],
         "yaxis": "y"
        },
        {
         "hovertemplate": "variable=Fb<br>time_s=%{x}<br>value=%{y}<extra></extra>",
         "legendgroup": "Fb",
         "line": {
          "color": "#FF6692",
          "dash": "solid"
         },
         "marker": {
          "symbol": "circle"
         },
         "mode": "lines",
         "name": "Fb",
         "showlegend": true,
         "type": "scattergl",
         "x": [
          0,
          1,
          2,
          3,
          4,
          5,
          6,
          7,
          8,
          9,
          10,
          11,
          12,
          13,
          14,
          15,
          16,
          17,
          18,
          19,
          20,
          21,
          22,
          23,
          24,
          25,
          26,
          27,
          28,
          29,
          30,
          31,
          32,
          33,
          34,
          35,
          36,
          37,
          38,
          39,
          40,
          41,
          42,
          43,
          44,
          45,
          46,
          47,
          48,
          49,
          50,
          51,
          52,
          53,
          54,
          55,
          56,
          57,
          58,
          59,
          60,
          61,
          62,
          63,
          64,
          65,
          66,
          67,
          68,
          69,
          70,
          71,
          72,
          73,
          74,
          75,
          76,
          77,
          78,
          79,
          80,
          81,
          82,
          83,
          84,
          85,
          86,
          87,
          88,
          89,
          90,
          91,
          92,
          93,
          94,
          95,
          96,
          97,
          98,
          99,
          100,
          101,
          102,
          103,
          104,
          105,
          106,
          107,
          108
         ],
         "xaxis": "x",
         "y": [
          0,
          0,
          0,
          0,
          0,
          0,
          0,
          0,
          0,
          0,
          0,
          0,
          0,
          0,
          0,
          0,
          0,
          0,
          0,
          0,
          0,
          0,
          0,
          0,
          0,
          0,
          0,
          0,
          0,
          0,
          0,
          0,
          0,
          0,
          0,
          0,
          0,
          0,
          0,
          0,
          0,
          0,
          0,
          0,
          0,
          0,
          0,
          0,
          0,
          0,
          0,
          0,
          0,
          0,
          0,
          0,
          0,
          0,
          0,
          0,
          0,
          0,
          0,
          0,
          0,
          0,
          0,
          0,
          0,
          0,
          0,
          0,
          0,
          0,
          0,
          0,
          0,
          0,
          0,
          0,
          0,
          0,
          0,
          0,
          0,
          0,
          0,
          0,
          0,
          0,
          0,
          0,
          0,
          0,
          0,
          0,
          0,
          0,
          0,
          0,
          0,
          0,
          0,
          0,
          0,
          0,
          0,
          0,
          0
         ],
         "yaxis": "y"
        },
        {
         "hovertemplate": "variable=Ft<br>time_s=%{x}<br>value=%{y}<extra></extra>",
         "legendgroup": "Ft",
         "line": {
          "color": "#B6E880",
          "dash": "solid"
         },
         "marker": {
          "symbol": "circle"
         },
         "mode": "lines",
         "name": "Ft",
         "showlegend": true,
         "type": "scattergl",
         "x": [
          0,
          1,
          2,
          3,
          4,
          5,
          6,
          7,
          8,
          9,
          10,
          11,
          12,
          13,
          14,
          15,
          16,
          17,
          18,
          19,
          20,
          21,
          22,
          23,
          24,
          25,
          26,
          27,
          28,
          29,
          30,
          31,
          32,
          33,
          34,
          35,
          36,
          37,
          38,
          39,
          40,
          41,
          42,
          43,
          44,
          45,
          46,
          47,
          48,
          49,
          50,
          51,
          52,
          53,
          54,
          55,
          56,
          57,
          58,
          59,
          60,
          61,
          62,
          63,
          64,
          65,
          66,
          67,
          68,
          69,
          70,
          71,
          72,
          73,
          74,
          75,
          76,
          77,
          78,
          79,
          80,
          81,
          82,
          83,
          84,
          85,
          86,
          87,
          88,
          89,
          90,
          91,
          92,
          93,
          94,
          95,
          96,
          97,
          98,
          99,
          100,
          101,
          102,
          103,
          104,
          105,
          106,
          107,
          108
         ],
         "xaxis": "x",
         "y": [
          55.25,
          55.25,
          55.25,
          55.25,
          55.25,
          55.25,
          55.25,
          55.25,
          55.25,
          55.25,
          55.25,
          55.25,
          55.25,
          55.25,
          55.25,
          55.25,
          147.61,
          240.11,
          240.51,
          241.19,
          242.14,
          243.35,
          231.64,
          219.94,
          221.63,
          223.52,
          57.37,
          -113.19,
          -115.27,
          -117.1,
          -29.62,
          59.45,
          138.61,
          219.17,
          220.76,
          222.55,
          224.53,
          210.89,
          196.94,
          198.96,
          201.11,
          203.38,
          63.28,
          -82.2,
          -84.98,
          -8.4,
          70.77,
          70.77,
          70.77,
          -8.4,
          -89.95,
          51.36,
          196.61,
          198.5,
          200.52,
          202.67,
          204.96,
          207.37,
          209.92,
          193.51,
          176.39,
          178.42,
          180.51,
          182.67,
          184.89,
          187.18,
          78.32,
          -36.3,
          -39.57,
          23.27,
          89.24,
          89.24,
          89.24,
          89.24,
          89.24,
          89.24,
          29.87,
          -32.21,
          69.82,
          176.39,
          178.42,
          180.51,
          182.67,
          184.89,
          187.18,
          78.32,
          -36.3,
          -39.57,
          -42.7,
          -45.7,
          -48.55,
          -51.27,
          -53.85,
          -56.29,
          -66.13,
          -76.08,
          -78.31,
          -80.37,
          -82.26,
          -83.98,
          -85.53,
          -92.56,
          -99.51,
          -100.6,
          -101.49,
          -102.19,
          -102.69,
          -102.98,
          55.25
         ],
         "yaxis": "y"
        },
        {
         "hovertemplate": "variable=m_pwr_kW<br>time_s=%{x}<br>value=%{y}<extra></extra>",
         "legendgroup": "m_pwr_kW",
         "line": {
          "color": "#FF97FF",
          "dash": "solid"
         },
         "marker": {
          "symbol": "circle"
         },
         "mode": "lines",
         "name": "m_pwr_kW",
         "showlegend": true,
         "type": "scattergl",
         "x": [
          0,
          1,
          2,
          3,
          4,
          5,
          6,
          7,
          8,
          9,
          10,
          11,
          12,
          13,
          14,
          15,
          16,
          17,
          18,
          19,
          20,
          21,
          22,
          23,
          24,
          25,
          26,
          27,
          28,
          29,
          30,
          31,
          32,
          33,
          34,
          35,
          36,
          37,
          38,
          39,
          40,
          41,
          42,
          43,
          44,
          45,
          46,
          47,
          48,
          49,
          50,
          51,
          52,
          53,
          54,
          55,
          56,
          57,
          58,
          59,
          60,
          61,
          62,
          63,
          64,
          65,
          66,
          67,
          68,
          69,
          70,
          71,
          72,
          73,
          74,
          75,
          76,
          77,
          78,
          79,
          80,
          81,
          82,
          83,
          84,
          85,
          86,
          87,
          88,
          89,
          90,
          91,
          92,
          93,
          94,
          95,
          96,
          97,
          98,
          99,
          100,
          101,
          102,
          103,
          104,
          105,
          106,
          107,
          108
         ],
         "xaxis": "x",
         "y": [
          0,
          0,
          0,
          0,
          0,
          0,
          0,
          0,
          0,
          0,
          0,
          0,
          0,
          0,
          0,
          0,
          0,
          0.16,
          0.31,
          0.47,
          0.63,
          0.79,
          0.9,
          0.98,
          1.11,
          1.24,
          0.35,
          -0.62,
          -0.56,
          -0.5,
          -0.11,
          0.21,
          0.5,
          0.91,
          1.04,
          1.17,
          1.31,
          1.35,
          1.35,
          1.45,
          1.55,
          1.66,
          0.54,
          -0.66,
          -0.64,
          -0.06,
          0.49,
          0.49,
          0.49,
          -0.06,
          -0.57,
          0.3,
          1.24,
          1.34,
          1.44,
          1.55,
          1.66,
          1.77,
          1.89,
          1.83,
          1.72,
          1.8,
          1.88,
          1.96,
          2.04,
          2.12,
          0.91,
          -0.41,
          -0.43,
          0.24,
          0.92,
          0.92,
          0.92,
          0.92,
          0.92,
          0.92,
          0.31,
          -0.32,
          0.66,
          1.72,
          1.8,
          1.88,
          1.96,
          2.04,
          2.12,
          0.91,
          -0.41,
          -0.43,
          -0.44,
          -0.45,
          -0.45,
          -0.46,
          -0.45,
          -0.45,
          -0.5,
          -0.53,
          -0.51,
          -0.48,
          -0.45,
          -0.41,
          -0.38,
          -0.36,
          -0.33,
          -0.28,
          -0.23,
          -0.17,
          -0.11,
          -0.06,
          0
         ],
         "yaxis": "y"
        },
        {
         "hovertemplate": "variable=e_pwr_kW<br>time_s=%{x}<br>value=%{y}<extra></extra>",
         "legendgroup": "e_pwr_kW",
         "line": {
          "color": "#FECB52",
          "dash": "solid"
         },
         "marker": {
          "symbol": "circle"
         },
         "mode": "lines",
         "name": "e_pwr_kW",
         "showlegend": true,
         "type": "scattergl",
         "x": [
          0,
          1,
          2,
          3,
          4,
          5,
          6,
          7,
          8,
          9,
          10,
          11,
          12,
          13,
          14,
          15,
          16,
          17,
          18,
          19,
          20,
          21,
          22,
          23,
          24,
          25,
          26,
          27,
          28,
          29,
          30,
          31,
          32,
          33,
          34,
          35,
          36,
          37,
          38,
          39,
          40,
          41,
          42,
          43,
          44,
          45,
          46,
          47,
          48,
          49,
          50,
          51,
          52,
          53,
          54,
          55,
          56,
          57,
          58,
          59,
          60,
          61,
          62,
          63,
          64,
          65,
          66,
          67,
          68,
          69,
          70,
          71,
          72,
          73,
          74,
          75,
          76,
          77,
          78,
          79,
          80,
          81,
          82,
          83,
          84,
          85,
          86,
          87,
          88,
          89,
          90,
          91,
          92,
          93,
          94,
          95,
          96,
          97,
          98,
          99,
          100,
          101,
          102,
          103,
          104,
          105,
          106,
          107,
          108
         ],
         "xaxis": "x",
         "y": [
          0,
          0,
          0,
          0,
          0,
          0,
          0,
          0,
          0,
          0,
          0,
          0,
          0,
          0,
          0,
          0,
          0,
          0.2,
          0.4,
          0.61,
          0.81,
          1.02,
          1.16,
          1.23,
          1.4,
          1.57,
          0.45,
          null,
          null,
          null,
          null,
          0.28,
          0.65,
          1.15,
          1.32,
          1.48,
          1.61,
          1.66,
          1.66,
          1.79,
          1.92,
          2.05,
          0.69,
          null,
          null,
          null,
          0.63,
          0.63,
          0.63,
          null,
          null,
          0.38,
          1.53,
          1.65,
          1.78,
          1.91,
          2.05,
          2.16,
          2.3,
          2.23,
          2.1,
          2.19,
          2.29,
          2.38,
          2.48,
          2.59,
          1.15,
          null,
          null,
          0.3,
          1.16,
          1.16,
          1.16,
          1.16,
          1.16,
          1.16,
          0.39,
          null,
          0.84,
          2.1,
          2.19,
          2.29,
          2.38,
          2.48,
          2.59,
          1.15,
          null,
          null,
          null,
          null,
          null,
          null,
          null,
          null,
          null,
          null,
          null,
          null,
          null,
          null,
          null,
          null,
          null,
          null,
          null,
          null,
          null,
          null,
          0
         ],
         "yaxis": "y"
        },
        {
         "hovertemplate": "variable=m_energy_Wh<br>time_s=%{x}<br>value=%{y}<extra></extra>",
         "legendgroup": "m_energy_Wh",
         "line": {
          "color": "#636efa",
          "dash": "solid"
         },
         "marker": {
          "symbol": "circle"
         },
         "mode": "lines",
         "name": "m_energy_Wh",
         "showlegend": true,
         "type": "scattergl",
         "x": [
          0,
          1,
          2,
          3,
          4,
          5,
          6,
          7,
          8,
          9,
          10,
          11,
          12,
          13,
          14,
          15,
          16,
          17,
          18,
          19,
          20,
          21,
          22,
          23,
          24,
          25,
          26,
          27,
          28,
          29,
          30,
          31,
          32,
          33,
          34,
          35,
          36,
          37,
          38,
          39,
          40,
          41,
          42,
          43,
          44,
          45,
          46,
          47,
          48,
          49,
          50,
          51,
          52,
          53,
          54,
          55,
          56,
          57,
          58,
          59,
          60,
          61,
          62,
          63,
          64,
          65,
          66,
          67,
          68,
          69,
          70,
          71,
          72,
          73,
          74,
          75,
          76,
          77,
          78,
          79,
          80,
          81,
          82,
          83,
          84,
          85,
          86,
          87,
          88,
          89,
          90,
          91,
          92,
          93,
          94,
          95,
          96,
          97,
          98,
          99,
          100,
          101,
          102,
          103,
          104,
          105,
          106,
          107,
          108
         ],
         "xaxis": "x",
         "y": [
          0,
          0,
          0,
          0,
          0,
          0,
          0,
          0,
          0,
          0,
          0,
          0,
          0,
          0,
          0,
          0,
          0,
          0.02,
          0.09,
          0.19,
          0.35,
          0.54,
          0.78,
          1.04,
          1.33,
          1.66,
          1.88,
          1.84,
          1.68,
          1.53,
          1.44,
          1.46,
          1.56,
          1.76,
          2.03,
          2.33,
          2.68,
          3.05,
          3.42,
          3.81,
          4.23,
          4.67,
          4.98,
          4.96,
          4.78,
          4.69,
          4.75,
          4.88,
          5.02,
          5.08,
          4.99,
          4.95,
          5.17,
          5.52,
          5.91,
          6.33,
          6.77,
          7.25,
          7.76,
          8.27,
          8.76,
          9.25,
          9.76,
          10.3,
          10.85,
          11.43,
          11.85,
          11.92,
          11.81,
          11.78,
          11.94,
          12.2,
          12.45,
          12.71,
          12.96,
          13.22,
          13.39,
          13.38,
          13.43,
          13.76,
          14.25,
          14.76,
          15.29,
          15.85,
          16.43,
          16.85,
          16.92,
          16.8,
          16.68,
          16.56,
          16.44,
          16.31,
          16.18,
          16.06,
          15.93,
          15.78,
          15.64,
          15.5,
          15.37,
          15.26,
          15.15,
          15.04,
          14.95,
          14.86,
          14.79,
          14.74,
          14.7,
          14.67,
          14.67
         ],
         "yaxis": "y"
        },
        {
         "hovertemplate": "variable=e_energy_Wh<br>time_s=%{x}<br>value=%{y}<extra></extra>",
         "legendgroup": "e_energy_Wh",
         "line": {
          "color": "#EF553B",
          "dash": "solid"
         },
         "marker": {
          "symbol": "circle"
         },
         "mode": "lines",
         "name": "e_energy_Wh",
         "showlegend": true,
         "type": "scattergl",
         "x": [
          0,
          1,
          2,
          3,
          4,
          5,
          6,
          7,
          8,
          9,
          10,
          11,
          12,
          13,
          14,
          15,
          16,
          17,
          18,
          19,
          20,
          21,
          22,
          23,
          24,
          25,
          26,
          27,
          28,
          29,
          30,
          31,
          32,
          33,
          34,
          35,
          36,
          37,
          38,
          39,
          40,
          41,
          42,
          43,
          44,
          45,
          46,
          47,
          48,
          49,
          50,
          51,
          52,
          53,
          54,
          55,
          56,
          57,
          58,
          59,
          60,
          61,
          62,
          63,
          64,
          65,
          66,
          67,
          68,
          69,
          70,
          71,
          72,
          73,
          74,
          75,
          76,
          77,
          78,
          79,
          80,
          81,
          82,
          83,
          84,
          85,
          86,
          87,
          88,
          89,
          90,
          91,
          92,
          93,
          94,
          95,
          96,
          97,
          98,
          99,
          100,
          101,
          102,
          103,
          104,
          105,
          106,
          107,
          108
         ],
         "xaxis": "x",
         "y": [
          0,
          0,
          0,
          0,
          0,
          0,
          0,
          0,
          0,
          0,
          0,
          0,
          0,
          0,
          0,
          0,
          0,
          0.03,
          0.11,
          0.25,
          0.45,
          0.7,
          1,
          1.34,
          1.7,
          2.12,
          2.4,
          2.4,
          2.4,
          2.4,
          2.4,
          2.4,
          2.52,
          2.77,
          3.12,
          3.51,
          3.93,
          4.39,
          4.85,
          5.33,
          5.84,
          6.4,
          6.78,
          6.78,
          6.78,
          6.78,
          6.78,
          6.95,
          7.12,
          7.12,
          7.12,
          7.12,
          7.39,
          7.83,
          8.31,
          8.82,
          9.37,
          9.95,
          10.57,
          11.2,
          11.8,
          12.4,
          13.02,
          13.67,
          14.34,
          15.05,
          15.57,
          15.57,
          15.57,
          15.57,
          15.77,
          16.1,
          16.42,
          16.74,
          17.06,
          17.39,
          17.6,
          17.6,
          17.6,
          18.01,
          18.61,
          19.23,
          19.88,
          20.55,
          21.26,
          21.78,
          21.78,
          21.78,
          21.78,
          21.78,
          21.78,
          21.78,
          21.78,
          21.78,
          21.78,
          21.78,
          21.78,
          21.78,
          21.78,
          21.78,
          21.78,
          21.78,
          21.78,
          21.78,
          21.78,
          21.78,
          21.78,
          21.78,
          21.78
         ],
         "yaxis": "y"
        },
        {
         "hovertemplate": "variable=m_Wh/km<br>time_s=%{x}<br>value=%{y}<extra></extra>",
         "legendgroup": "m_Wh/km",
         "line": {
          "color": "#00cc96",
          "dash": "solid"
         },
         "marker": {
          "symbol": "circle"
         },
         "mode": "lines",
         "name": "m_Wh/km",
         "showlegend": true,
         "type": "scattergl",
         "x": [
          0,
          1,
          2,
          3,
          4,
          5,
          6,
          7,
          8,
          9,
          10,
          11,
          12,
          13,
          14,
          15,
          16,
          17,
          18,
          19,
          20,
          21,
          22,
          23,
          24,
          25,
          26,
          27,
          28,
          29,
          30,
          31,
          32,
          33,
          34,
          35,
          36,
          37,
          38,
          39,
          40,
          41,
          42,
          43,
          44,
          45,
          46,
          47,
          48,
          49,
          50,
          51,
          52,
          53,
          54,
          55,
          56,
          57,
          58,
          59,
          60,
          61,
          62,
          63,
          64,
          65,
          66,
          67,
          68,
          69,
          70,
          71,
          72,
          73,
          74,
          75,
          76,
          77,
          78,
          79,
          80,
          81,
          82,
          83,
          84,
          85,
          86,
          87,
          88,
          89,
          90,
          91,
          92,
          93,
          94,
          95,
          96,
          97,
          98,
          99,
          100,
          101,
          102,
          103,
          104,
          105,
          106,
          107,
          108
         ],
         "xaxis": "x",
         "y": [
          0,
          0,
          0,
          0,
          0,
          0,
          0,
          0,
          0,
          0,
          0,
          0,
          0,
          0,
          0,
          0,
          0,
          66.7,
          66.75,
          66.85,
          66.98,
          67.15,
          66.74,
          65.66,
          64.66,
          64.09,
          59.27,
          49.09,
          39.29,
          32.39,
          28.27,
          26.67,
          26.73,
          28.21,
          30.4,
          32.58,
          34.7,
          36.59,
          38.06,
          39.29,
          40.46,
          41.57,
          41.22,
          38.43,
          34.93,
          32.51,
          31.42,
          30.9,
          30.43,
          29.55,
          27.95,
          26.82,
          27.09,
          28,
          28.94,
          29.89,
          30.84,
          31.81,
          32.78,
          33.65,
          34.31,
          34.87,
          35.43,
          35.98,
          36.54,
          37.09,
          37.07,
          36,
          34.51,
          33.41,
          32.91,
          32.68,
          32.47,
          32.27,
          32.08,
          31.9,
          31.53,
          30.79,
          30.23,
          30.32,
          30.73,
          31.14,
          31.56,
          31.99,
          32.42,
          32.52,
          31.95,
          31.08,
          30.27,
          29.51,
          28.8,
          28.13,
          27.5,
          26.91,
          26.35,
          25.8,
          25.29,
          24.82,
          24.39,
          24.01,
          23.66,
          23.35,
          23.07,
          22.83,
          22.64,
          22.49,
          22.38,
          22.31,
          22.29
         ],
         "yaxis": "y"
        },
        {
         "hovertemplate": "variable=e_Wh/km<br>time_s=%{x}<br>value=%{y}<extra></extra>",
         "legendgroup": "e_Wh/km",
         "line": {
          "color": "#ab63fa",
          "dash": "solid"
         },
         "marker": {
          "symbol": "circle"
         },
         "mode": "lines",
         "name": "e_Wh/km",
         "showlegend": true,
         "type": "scattergl",
         "x": [
          0,
          1,
          2,
          3,
          4,
          5,
          6,
          7,
          8,
          9,
          10,
          11,
          12,
          13,
          14,
          15,
          16,
          17,
          18,
          19,
          20,
          21,
          22,
          23,
          24,
          25,
          26,
          27,
          28,
          29,
          30,
          31,
          32,
          33,
          34,
          35,
          36,
          37,
          38,
          39,
          40,
          41,
          42,
          43,
          44,
          45,
          46,
          47,
          48,
          49,
          50,
          51,
          52,
          53,
          54,
          55,
          56,
          57,
          58,
          59,
          60,
          61,
          62,
          63,
          64,
          65,
          66,
          67,
          68,
          69,
          70,
          71,
          72,
          73,
          74,
          75,
          76,
          77,
          78,
          79,
          80,
          81,
          82,
          83,
          84,
          85,
          86,
          87,
          88,
          89,
          90,
          91,
          92,
          93,
          94,
          95,
          96,
          97,
          98,
          99,
          100,
          101,
          102,
          103,
          104,
          105,
          106,
          107,
          108
         ],
         "xaxis": "x",
         "y": [
          0,
          0,
          0,
          0,
          0,
          0,
          0,
          0,
          0,
          0,
          0,
          0,
          0,
          0,
          0,
          0,
          0,
          86.07,
          86.14,
          86.26,
          86.43,
          86.65,
          86.13,
          84.49,
          82.87,
          81.89,
          75.65,
          63.94,
          56.18,
          50.76,
          46.87,
          43.77,
          43.26,
          44.57,
          46.75,
          48.91,
          50.95,
          52.67,
          53.93,
          54.95,
          55.93,
          56.88,
          56.08,
          52.46,
          49.48,
          47,
          44.84,
          43.97,
          43.18,
          41.43,
          39.89,
          38.57,
          38.73,
          39.69,
          40.67,
          41.67,
          42.68,
          43.68,
          44.68,
          45.56,
          46.2,
          46.72,
          47.24,
          47.77,
          48.29,
          48.83,
          48.69,
          47.01,
          45.5,
          44.15,
          43.46,
          43.13,
          42.82,
          42.52,
          42.24,
          41.97,
          41.46,
          40.5,
          39.62,
          39.68,
          40.12,
          40.56,
          41.02,
          41.48,
          41.96,
          42.03,
          41.12,
          40.28,
          39.52,
          38.81,
          38.16,
          37.56,
          37,
          36.5,
          36.03,
          35.6,
          35.22,
          34.87,
          34.55,
          34.27,
          34.02,
          33.8,
          33.61,
          33.45,
          33.33,
          33.23,
          33.16,
          33.11,
          33.1
         ],
         "yaxis": "y"
        },
        {
         "hovertemplate": "variable=pack_voltage_V<br>time_s=%{x}<br>value=%{y}<extra></extra>",
         "legendgroup": "pack_voltage_V",
         "line": {
          "color": "#FFA15A",
          "dash": "solid"
         },
         "marker": {
          "symbol": "circle"
         },
         "mode": "lines",
         "name": "pack_voltage_V",
         "showlegend": true,
         "type": "scattergl",
         "x": [
          0,
          1,
          2,
          3,
          4,
          5,
          6,
          7,
          8,
          9,
          10,
          11,
          12,
          13,
          14,
          15,
          16,
          17,
          18,
          19,
          20,
          21,
          22,
          23,
          24,
          25,
          26,
          27,
          28,
          29,
          30,
          31,
          32,
          33,
          34,
          35,
          36,
          37,
          38,
          39,
          40,
          41,
          42,
          43,
          44,
          45,
          46,
          47,
          48,
          49,
          50,
          51,
          52,
          53,
          54,
          55,
          56,
          57,
          58,
          59,
          60,
          61,
          62,
          63,
          64,
          65,
          66,
          67,
          68,
          69,
          70,
          71,
          72,
          73,
          74,
          75,
          76,
          77,
          78,
          79,
          80,
          81,
          82,
          83,
          84,
          85,
          86,
          87,
          88,
          89,
          90,
          91,
          92,
          93,
          94,
          95,
          96,
          97,
          98,
          99,
          100,
          101,
          102,
          103,
          104,
          105,
          106,
          107,
          108
         ],
         "xaxis": "x",
         "y": [
          52,
          52,
          52,
          52,
          52,
          52,
          52,
          52,
          52,
          52,
          52,
          52,
          52,
          52,
          52,
          52,
          52,
          52,
          52,
          52,
          52,
          52,
          52,
          52,
          52,
          52,
          52,
          52,
          52,
          52,
          52,
          52,
          52,
          52,
          52,
          52,
          52,
          52,
          52,
          52,
          52,
          52,
          52,
          52,
          52,
          52,
          52,
          52,
          52,
          52,
          52,
          52,
          52,
          52,
          52,
          52,
          52,
          52,
          52,
          52,
          52,
          52,
          52,
          52,
          52,
          52,
          52,
          52,
          52,
          52,
          52,
          52,
          52,
          52,
          52,
          52,
          52,
          52,
          52,
          52,
          52,
          52,
          52,
          52,
          52,
          52,
          52,
          52,
          52,
          52,
          52,
          52,
          52,
          52,
          52,
          52,
          52,
          52,
          52,
          52,
          52,
          52,
          52,
          52,
          52,
          52,
          52,
          52,
          52
         ],
         "yaxis": "y"
        },
        {
         "hovertemplate": "variable=pack_current_A<br>time_s=%{x}<br>value=%{y}<extra></extra>",
         "legendgroup": "pack_current_A",
         "line": {
          "color": "#19d3f3",
          "dash": "solid"
         },
         "marker": {
          "symbol": "circle"
         },
         "mode": "lines",
         "name": "pack_current_A",
         "showlegend": true,
         "type": "scattergl",
         "x": [
          0,
          1,
          2,
          3,
          4,
          5,
          6,
          7,
          8,
          9,
          10,
          11,
          12,
          13,
          14,
          15,
          16,
          17,
          18,
          19,
          20,
          21,
          22,
          23,
          24,
          25,
          26,
          27,
          28,
          29,
          30,
          31,
          32,
          33,
          34,
          35,
          36,
          37,
          38,
          39,
          40,
          41,
          42,
          43,
          44,
          45,
          46,
          47,
          48,
          49,
          50,
          51,
          52,
          53,
          54,
          55,
          56,
          57,
          58,
          59,
          60,
          61,
          62,
          63,
          64,
          65,
          66,
          67,
          68,
          69,
          70,
          71,
          72,
          73,
          74,
          75,
          76,
          77,
          78,
          79,
          80,
          81,
          82,
          83,
          84,
          85,
          86,
          87,
          88,
          89,
          90,
          91,
          92,
          93,
          94,
          95,
          96,
          97,
          98,
          99,
          100,
          101,
          102,
          103,
          104,
          105,
          106,
          107,
          108
         ],
         "xaxis": "x",
         "y": [
          0,
          0,
          0,
          0,
          0,
          0,
          0,
          0,
          0,
          0,
          0,
          0,
          0,
          0,
          0,
          0,
          0,
          3.86,
          7.74,
          11.64,
          15.58,
          19.57,
          22.36,
          23.74,
          26.91,
          30.15,
          8.6,
          null,
          null,
          null,
          null,
          5.33,
          12.42,
          22.17,
          25.31,
          28.52,
          30.92,
          31.99,
          31.95,
          34.38,
          36.87,
          39.43,
          13.29,
          null,
          null,
          null,
          12.06,
          12.06,
          12.06,
          null,
          null,
          7.35,
          29.34,
          31.75,
          34.22,
          36.76,
          39.37,
          41.5,
          44.23,
          42.82,
          40.34,
          42.13,
          43.97,
          45.85,
          47.79,
          49.77,
          22.14,
          null,
          null,
          5.83,
          22.37,
          22.37,
          22.37,
          22.37,
          22.37,
          22.37,
          7.49,
          null,
          16.08,
          40.34,
          42.13,
          43.97,
          45.85,
          47.79,
          49.77,
          22.14,
          null,
          null,
          null,
          null,
          null,
          null,
          null,
          null,
          null,
          null,
          null,
          null,
          null,
          null,
          null,
          null,
          null,
          null,
          null,
          null,
          null,
          null,
          0
         ],
         "yaxis": "y"
        },
        {
         "hovertemplate": "variable=delta_voltage_V_ir<br>time_s=%{x}<br>value=%{y}<extra></extra>",
         "legendgroup": "delta_voltage_V_ir",
         "line": {
          "color": "#FF6692",
          "dash": "solid"
         },
         "marker": {
          "symbol": "circle"
         },
         "mode": "lines",
         "name": "delta_voltage_V_ir",
         "showlegend": true,
         "type": "scattergl",
         "x": [
          0,
          1,
          2,
          3,
          4,
          5,
          6,
          7,
          8,
          9,
          10,
          11,
          12,
          13,
          14,
          15,
          16,
          17,
          18,
          19,
          20,
          21,
          22,
          23,
          24,
          25,
          26,
          27,
          28,
          29,
          30,
          31,
          32,
          33,
          34,
          35,
          36,
          37,
          38,
          39,
          40,
          41,
          42,
          43,
          44,
          45,
          46,
          47,
          48,
          49,
          50,
          51,
          52,
          53,
          54,
          55,
          56,
          57,
          58,
          59,
          60,
          61,
          62,
          63,
          64,
          65,
          66,
          67,
          68,
          69,
          70,
          71,
          72,
          73,
          74,
          75,
          76,
          77,
          78,
          79,
          80,
          81,
          82,
          83,
          84,
          85,
          86,
          87,
          88,
          89,
          90,
          91,
          92,
          93,
          94,
          95,
          96,
          97,
          98,
          99,
          100,
          101,
          102,
          103,
          104,
          105,
          106,
          107,
          108
         ],
         "xaxis": "x",
         "y": [
          0,
          0,
          0,
          0,
          0,
          0,
          0,
          0,
          0,
          0,
          0,
          0,
          0,
          0,
          0,
          0,
          0,
          0.04,
          0.08,
          0.12,
          0.16,
          0.2,
          0.22,
          0.24,
          0.27,
          0.3,
          0.09,
          null,
          null,
          null,
          null,
          0.05,
          0.12,
          0.22,
          0.25,
          0.29,
          0.31,
          0.32,
          0.32,
          0.34,
          0.37,
          0.39,
          0.13,
          null,
          null,
          null,
          0.12,
          0.12,
          0.12,
          null,
          null,
          0.07,
          0.29,
          0.32,
          0.34,
          0.37,
          0.39,
          0.42,
          0.44,
          0.43,
          0.4,
          0.42,
          0.44,
          0.46,
          0.48,
          0.5,
          0.22,
          null,
          null,
          0.06,
          0.22,
          0.22,
          0.22,
          0.22,
          0.22,
          0.22,
          0.07,
          null,
          0.16,
          0.4,
          0.42,
          0.44,
          0.46,
          0.48,
          0.5,
          0.22,
          null,
          null,
          null,
          null,
          null,
          null,
          null,
          null,
          null,
          null,
          null,
          null,
          null,
          null,
          null,
          null,
          null,
          null,
          null,
          null,
          null,
          null,
          0
         ],
         "yaxis": "y"
        },
        {
         "hovertemplate": "variable=pack_voltage_V_w_ir<br>time_s=%{x}<br>value=%{y}<extra></extra>",
         "legendgroup": "pack_voltage_V_w_ir",
         "line": {
          "color": "#B6E880",
          "dash": "solid"
         },
         "marker": {
          "symbol": "circle"
         },
         "mode": "lines",
         "name": "pack_voltage_V_w_ir",
         "showlegend": true,
         "type": "scattergl",
         "x": [
          0,
          1,
          2,
          3,
          4,
          5,
          6,
          7,
          8,
          9,
          10,
          11,
          12,
          13,
          14,
          15,
          16,
          17,
          18,
          19,
          20,
          21,
          22,
          23,
          24,
          25,
          26,
          27,
          28,
          29,
          30,
          31,
          32,
          33,
          34,
          35,
          36,
          37,
          38,
          39,
          40,
          41,
          42,
          43,
          44,
          45,
          46,
          47,
          48,
          49,
          50,
          51,
          52,
          53,
          54,
          55,
          56,
          57,
          58,
          59,
          60,
          61,
          62,
          63,
          64,
          65,
          66,
          67,
          68,
          69,
          70,
          71,
          72,
          73,
          74,
          75,
          76,
          77,
          78,
          79,
          80,
          81,
          82,
          83,
          84,
          85,
          86,
          87,
          88,
          89,
          90,
          91,
          92,
          93,
          94,
          95,
          96,
          97,
          98,
          99,
          100,
          101,
          102,
          103,
          104,
          105,
          106,
          107,
          108
         ],
         "xaxis": "x",
         "y": [
          52,
          52,
          52,
          52,
          52,
          52,
          52,
          52,
          52,
          52,
          52,
          52,
          52,
          52,
          52,
          52,
          52,
          51.96,
          51.92,
          51.88,
          51.84,
          51.8,
          51.78,
          51.76,
          51.73,
          51.7,
          51.91,
          null,
          null,
          null,
          null,
          51.95,
          51.88,
          51.78,
          51.75,
          51.71,
          51.69,
          51.68,
          51.68,
          51.66,
          51.63,
          51.61,
          51.87,
          null,
          null,
          null,
          51.88,
          51.88,
          51.88,
          null,
          null,
          51.93,
          51.71,
          51.68,
          51.66,
          51.63,
          51.61,
          51.58,
          51.56,
          51.57,
          51.6,
          51.58,
          51.56,
          51.54,
          51.52,
          51.5,
          51.78,
          null,
          null,
          51.94,
          51.78,
          51.78,
          51.78,
          51.78,
          51.78,
          51.78,
          51.93,
          null,
          51.84,
          51.6,
          51.58,
          51.56,
          51.54,
          51.52,
          51.5,
          51.78,
          null,
          null,
          null,
          null,
          null,
          null,
          null,
          null,
          null,
          null,
          null,
          null,
          null,
          null,
          null,
          null,
          null,
          null,
          null,
          null,
          null,
          null,
          52
         ],
         "yaxis": "y"
        },
        {
         "hovertemplate": "variable=pack_current_A_w_ir<br>time_s=%{x}<br>value=%{y}<extra></extra>",
         "legendgroup": "pack_current_A_w_ir",
         "line": {
          "color": "#FF97FF",
          "dash": "solid"
         },
         "marker": {
          "symbol": "circle"
         },
         "mode": "lines",
         "name": "pack_current_A_w_ir",
         "showlegend": true,
         "type": "scattergl",
         "x": [
          0,
          1,
          2,
          3,
          4,
          5,
          6,
          7,
          8,
          9,
          10,
          11,
          12,
          13,
          14,
          15,
          16,
          17,
          18,
          19,
          20,
          21,
          22,
          23,
          24,
          25,
          26,
          27,
          28,
          29,
          30,
          31,
          32,
          33,
          34,
          35,
          36,
          37,
          38,
          39,
          40,
          41,
          42,
          43,
          44,
          45,
          46,
          47,
          48,
          49,
          50,
          51,
          52,
          53,
          54,
          55,
          56,
          57,
          58,
          59,
          60,
          61,
          62,
          63,
          64,
          65,
          66,
          67,
          68,
          69,
          70,
          71,
          72,
          73,
          74,
          75,
          76,
          77,
          78,
          79,
          80,
          81,
          82,
          83,
          84,
          85,
          86,
          87,
          88,
          89,
          90,
          91,
          92,
          93,
          94,
          95,
          96,
          97,
          98,
          99,
          100,
          101,
          102,
          103,
          104,
          105,
          106,
          107,
          108
         ],
         "xaxis": "x",
         "y": [
          0,
          0,
          0,
          0,
          0,
          0,
          0,
          0,
          0,
          0,
          0,
          0,
          0,
          0,
          0,
          0,
          0,
          3.87,
          7.75,
          11.66,
          15.63,
          19.65,
          22.45,
          23.84,
          27.05,
          30.33,
          8.62,
          null,
          null,
          null,
          null,
          5.33,
          12.45,
          22.27,
          25.44,
          28.68,
          31.11,
          32.19,
          32.15,
          34.61,
          37.13,
          39.73,
          13.33,
          null,
          null,
          null,
          12.08,
          12.08,
          12.08,
          null,
          null,
          7.36,
          29.5,
          31.94,
          34.44,
          37.02,
          39.67,
          41.83,
          44.61,
          43.18,
          40.66,
          42.48,
          44.35,
          46.26,
          48.23,
          50.25,
          22.23,
          null,
          null,
          5.84,
          22.47,
          22.47,
          22.47,
          22.47,
          22.47,
          22.47,
          7.5,
          null,
          16.13,
          40.66,
          42.48,
          44.35,
          46.26,
          48.23,
          50.25,
          22.23,
          null,
          null,
          null,
          null,
          null,
          null,
          null,
          null,
          null,
          null,
          null,
          null,
          null,
          null,
          null,
          null,
          null,
          null,
          null,
          null,
          null,
          null,
          0
         ],
         "yaxis": "y"
        }
       ],
       "layout": {
        "legend": {
         "title": {
          "text": "variable"
         },
         "tracegroupgap": 0
        },
        "margin": {
         "t": 60
        },
        "template": {
         "data": {
          "bar": [
           {
            "error_x": {
             "color": "#2a3f5f"
            },
            "error_y": {
             "color": "#2a3f5f"
            },
            "marker": {
             "line": {
              "color": "#E5ECF6",
              "width": 0.5
             },
             "pattern": {
              "fillmode": "overlay",
              "size": 10,
              "solidity": 0.2
             }
            },
            "type": "bar"
           }
          ],
          "barpolar": [
           {
            "marker": {
             "line": {
              "color": "#E5ECF6",
              "width": 0.5
             },
             "pattern": {
              "fillmode": "overlay",
              "size": 10,
              "solidity": 0.2
             }
            },
            "type": "barpolar"
           }
          ],
          "carpet": [
           {
            "aaxis": {
             "endlinecolor": "#2a3f5f",
             "gridcolor": "white",
             "linecolor": "white",
             "minorgridcolor": "white",
             "startlinecolor": "#2a3f5f"
            },
            "baxis": {
             "endlinecolor": "#2a3f5f",
             "gridcolor": "white",
             "linecolor": "white",
             "minorgridcolor": "white",
             "startlinecolor": "#2a3f5f"
            },
            "type": "carpet"
           }
          ],
          "choropleth": [
           {
            "colorbar": {
             "outlinewidth": 0,
             "ticks": ""
            },
            "type": "choropleth"
           }
          ],
          "contour": [
           {
            "colorbar": {
             "outlinewidth": 0,
             "ticks": ""
            },
            "colorscale": [
             [
              0,
              "#0d0887"
             ],
             [
              0.1111111111111111,
              "#46039f"
             ],
             [
              0.2222222222222222,
              "#7201a8"
             ],
             [
              0.3333333333333333,
              "#9c179e"
             ],
             [
              0.4444444444444444,
              "#bd3786"
             ],
             [
              0.5555555555555556,
              "#d8576b"
             ],
             [
              0.6666666666666666,
              "#ed7953"
             ],
             [
              0.7777777777777778,
              "#fb9f3a"
             ],
             [
              0.8888888888888888,
              "#fdca26"
             ],
             [
              1,
              "#f0f921"
             ]
            ],
            "type": "contour"
           }
          ],
          "contourcarpet": [
           {
            "colorbar": {
             "outlinewidth": 0,
             "ticks": ""
            },
            "type": "contourcarpet"
           }
          ],
          "heatmap": [
           {
            "colorbar": {
             "outlinewidth": 0,
             "ticks": ""
            },
            "colorscale": [
             [
              0,
              "#0d0887"
             ],
             [
              0.1111111111111111,
              "#46039f"
             ],
             [
              0.2222222222222222,
              "#7201a8"
             ],
             [
              0.3333333333333333,
              "#9c179e"
             ],
             [
              0.4444444444444444,
              "#bd3786"
             ],
             [
              0.5555555555555556,
              "#d8576b"
             ],
             [
              0.6666666666666666,
              "#ed7953"
             ],
             [
              0.7777777777777778,
              "#fb9f3a"
             ],
             [
              0.8888888888888888,
              "#fdca26"
             ],
             [
              1,
              "#f0f921"
             ]
            ],
            "type": "heatmap"
           }
          ],
          "heatmapgl": [
           {
            "colorbar": {
             "outlinewidth": 0,
             "ticks": ""
            },
            "colorscale": [
             [
              0,
              "#0d0887"
             ],
             [
              0.1111111111111111,
              "#46039f"
             ],
             [
              0.2222222222222222,
              "#7201a8"
             ],
             [
              0.3333333333333333,
              "#9c179e"
             ],
             [
              0.4444444444444444,
              "#bd3786"
             ],
             [
              0.5555555555555556,
              "#d8576b"
             ],
             [
              0.6666666666666666,
              "#ed7953"
             ],
             [
              0.7777777777777778,
              "#fb9f3a"
             ],
             [
              0.8888888888888888,
              "#fdca26"
             ],
             [
              1,
              "#f0f921"
             ]
            ],
            "type": "heatmapgl"
           }
          ],
          "histogram": [
           {
            "marker": {
             "pattern": {
              "fillmode": "overlay",
              "size": 10,
              "solidity": 0.2
             }
            },
            "type": "histogram"
           }
          ],
          "histogram2d": [
           {
            "colorbar": {
             "outlinewidth": 0,
             "ticks": ""
            },
            "colorscale": [
             [
              0,
              "#0d0887"
             ],
             [
              0.1111111111111111,
              "#46039f"
             ],
             [
              0.2222222222222222,
              "#7201a8"
             ],
             [
              0.3333333333333333,
              "#9c179e"
             ],
             [
              0.4444444444444444,
              "#bd3786"
             ],
             [
              0.5555555555555556,
              "#d8576b"
             ],
             [
              0.6666666666666666,
              "#ed7953"
             ],
             [
              0.7777777777777778,
              "#fb9f3a"
             ],
             [
              0.8888888888888888,
              "#fdca26"
             ],
             [
              1,
              "#f0f921"
             ]
            ],
            "type": "histogram2d"
           }
          ],
          "histogram2dcontour": [
           {
            "colorbar": {
             "outlinewidth": 0,
             "ticks": ""
            },
            "colorscale": [
             [
              0,
              "#0d0887"
             ],
             [
              0.1111111111111111,
              "#46039f"
             ],
             [
              0.2222222222222222,
              "#7201a8"
             ],
             [
              0.3333333333333333,
              "#9c179e"
             ],
             [
              0.4444444444444444,
              "#bd3786"
             ],
             [
              0.5555555555555556,
              "#d8576b"
             ],
             [
              0.6666666666666666,
              "#ed7953"
             ],
             [
              0.7777777777777778,
              "#fb9f3a"
             ],
             [
              0.8888888888888888,
              "#fdca26"
             ],
             [
              1,
              "#f0f921"
             ]
            ],
            "type": "histogram2dcontour"
           }
          ],
          "mesh3d": [
           {
            "colorbar": {
             "outlinewidth": 0,
             "ticks": ""
            },
            "type": "mesh3d"
           }
          ],
          "parcoords": [
           {
            "line": {
             "colorbar": {
              "outlinewidth": 0,
              "ticks": ""
             }
            },
            "type": "parcoords"
           }
          ],
          "pie": [
           {
            "automargin": true,
            "type": "pie"
           }
          ],
          "scatter": [
           {
            "fillpattern": {
             "fillmode": "overlay",
             "size": 10,
             "solidity": 0.2
            },
            "type": "scatter"
           }
          ],
          "scatter3d": [
           {
            "line": {
             "colorbar": {
              "outlinewidth": 0,
              "ticks": ""
             }
            },
            "marker": {
             "colorbar": {
              "outlinewidth": 0,
              "ticks": ""
             }
            },
            "type": "scatter3d"
           }
          ],
          "scattercarpet": [
           {
            "marker": {
             "colorbar": {
              "outlinewidth": 0,
              "ticks": ""
             }
            },
            "type": "scattercarpet"
           }
          ],
          "scattergeo": [
           {
            "marker": {
             "colorbar": {
              "outlinewidth": 0,
              "ticks": ""
             }
            },
            "type": "scattergeo"
           }
          ],
          "scattergl": [
           {
            "marker": {
             "colorbar": {
              "outlinewidth": 0,
              "ticks": ""
             }
            },
            "type": "scattergl"
           }
          ],
          "scattermapbox": [
           {
            "marker": {
             "colorbar": {
              "outlinewidth": 0,
              "ticks": ""
             }
            },
            "type": "scattermapbox"
           }
          ],
          "scatterpolar": [
           {
            "marker": {
             "colorbar": {
              "outlinewidth": 0,
              "ticks": ""
             }
            },
            "type": "scatterpolar"
           }
          ],
          "scatterpolargl": [
           {
            "marker": {
             "colorbar": {
              "outlinewidth": 0,
              "ticks": ""
             }
            },
            "type": "scatterpolargl"
           }
          ],
          "scatterternary": [
           {
            "marker": {
             "colorbar": {
              "outlinewidth": 0,
              "ticks": ""
             }
            },
            "type": "scatterternary"
           }
          ],
          "surface": [
           {
            "colorbar": {
             "outlinewidth": 0,
             "ticks": ""
            },
            "colorscale": [
             [
              0,
              "#0d0887"
             ],
             [
              0.1111111111111111,
              "#46039f"
             ],
             [
              0.2222222222222222,
              "#7201a8"
             ],
             [
              0.3333333333333333,
              "#9c179e"
             ],
             [
              0.4444444444444444,
              "#bd3786"
             ],
             [
              0.5555555555555556,
              "#d8576b"
             ],
             [
              0.6666666666666666,
              "#ed7953"
             ],
             [
              0.7777777777777778,
              "#fb9f3a"
             ],
             [
              0.8888888888888888,
              "#fdca26"
             ],
             [
              1,
              "#f0f921"
             ]
            ],
            "type": "surface"
           }
          ],
          "table": [
           {
            "cells": {
             "fill": {
              "color": "#EBF0F8"
             },
             "line": {
              "color": "white"
             }
            },
            "header": {
             "fill": {
              "color": "#C8D4E3"
             },
             "line": {
              "color": "white"
             }
            },
            "type": "table"
           }
          ]
         },
         "layout": {
          "annotationdefaults": {
           "arrowcolor": "#2a3f5f",
           "arrowhead": 0,
           "arrowwidth": 1
          },
          "autotypenumbers": "strict",
          "coloraxis": {
           "colorbar": {
            "outlinewidth": 0,
            "ticks": ""
           }
          },
          "colorscale": {
           "diverging": [
            [
             0,
             "#8e0152"
            ],
            [
             0.1,
             "#c51b7d"
            ],
            [
             0.2,
             "#de77ae"
            ],
            [
             0.3,
             "#f1b6da"
            ],
            [
             0.4,
             "#fde0ef"
            ],
            [
             0.5,
             "#f7f7f7"
            ],
            [
             0.6,
             "#e6f5d0"
            ],
            [
             0.7,
             "#b8e186"
            ],
            [
             0.8,
             "#7fbc41"
            ],
            [
             0.9,
             "#4d9221"
            ],
            [
             1,
             "#276419"
            ]
           ],
           "sequential": [
            [
             0,
             "#0d0887"
            ],
            [
             0.1111111111111111,
             "#46039f"
            ],
            [
             0.2222222222222222,
             "#7201a8"
            ],
            [
             0.3333333333333333,
             "#9c179e"
            ],
            [
             0.4444444444444444,
             "#bd3786"
            ],
            [
             0.5555555555555556,
             "#d8576b"
            ],
            [
             0.6666666666666666,
             "#ed7953"
            ],
            [
             0.7777777777777778,
             "#fb9f3a"
            ],
            [
             0.8888888888888888,
             "#fdca26"
            ],
            [
             1,
             "#f0f921"
            ]
           ],
           "sequentialminus": [
            [
             0,
             "#0d0887"
            ],
            [
             0.1111111111111111,
             "#46039f"
            ],
            [
             0.2222222222222222,
             "#7201a8"
            ],
            [
             0.3333333333333333,
             "#9c179e"
            ],
            [
             0.4444444444444444,
             "#bd3786"
            ],
            [
             0.5555555555555556,
             "#d8576b"
            ],
            [
             0.6666666666666666,
             "#ed7953"
            ],
            [
             0.7777777777777778,
             "#fb9f3a"
            ],
            [
             0.8888888888888888,
             "#fdca26"
            ],
            [
             1,
             "#f0f921"
            ]
           ]
          },
          "colorway": [
           "#636efa",
           "#EF553B",
           "#00cc96",
           "#ab63fa",
           "#FFA15A",
           "#19d3f3",
           "#FF6692",
           "#B6E880",
           "#FF97FF",
           "#FECB52"
          ],
          "font": {
           "color": "#2a3f5f"
          },
          "geo": {
           "bgcolor": "white",
           "lakecolor": "white",
           "landcolor": "#E5ECF6",
           "showlakes": true,
           "showland": true,
           "subunitcolor": "white"
          },
          "hoverlabel": {
           "align": "left"
          },
          "hovermode": "closest",
          "mapbox": {
           "style": "light"
          },
          "paper_bgcolor": "white",
          "plot_bgcolor": "#E5ECF6",
          "polar": {
           "angularaxis": {
            "gridcolor": "white",
            "linecolor": "white",
            "ticks": ""
           },
           "bgcolor": "#E5ECF6",
           "radialaxis": {
            "gridcolor": "white",
            "linecolor": "white",
            "ticks": ""
           }
          },
          "scene": {
           "xaxis": {
            "backgroundcolor": "#E5ECF6",
            "gridcolor": "white",
            "gridwidth": 2,
            "linecolor": "white",
            "showbackground": true,
            "ticks": "",
            "zerolinecolor": "white"
           },
           "yaxis": {
            "backgroundcolor": "#E5ECF6",
            "gridcolor": "white",
            "gridwidth": 2,
            "linecolor": "white",
            "showbackground": true,
            "ticks": "",
            "zerolinecolor": "white"
           },
           "zaxis": {
            "backgroundcolor": "#E5ECF6",
            "gridcolor": "white",
            "gridwidth": 2,
            "linecolor": "white",
            "showbackground": true,
            "ticks": "",
            "zerolinecolor": "white"
           }
          },
          "shapedefaults": {
           "line": {
            "color": "#2a3f5f"
           }
          },
          "ternary": {
           "aaxis": {
            "gridcolor": "white",
            "linecolor": "white",
            "ticks": ""
           },
           "baxis": {
            "gridcolor": "white",
            "linecolor": "white",
            "ticks": ""
           },
           "bgcolor": "#E5ECF6",
           "caxis": {
            "gridcolor": "white",
            "linecolor": "white",
            "ticks": ""
           }
          },
          "title": {
           "x": 0.05
          },
          "xaxis": {
           "automargin": true,
           "gridcolor": "white",
           "linecolor": "white",
           "ticks": "",
           "title": {
            "standoff": 15
           },
           "zerolinecolor": "white",
           "zerolinewidth": 2
          },
          "yaxis": {
           "automargin": true,
           "gridcolor": "white",
           "linecolor": "white",
           "ticks": "",
           "title": {
            "standoff": 15
           },
           "zerolinecolor": "white",
           "zerolinewidth": 2
          }
         }
        },
        "xaxis": {
         "anchor": "y",
         "domain": [
          0,
          1
         ],
         "title": {
          "text": "time_s"
         }
        },
        "yaxis": {
         "anchor": "x",
         "domain": [
          0,
          1
         ],
         "title": {
          "text": "value"
         }
        }
       }
      }
     },
     "metadata": {},
     "output_type": "display_data"
    }
   ],
   "source": [
    "df_energy = energy_calc(time,speed,accn_mps2,mtr_sys_eff,vehicle_param,coastdown_param,veh0_coast1)"
   ]
  },
  {
   "cell_type": "code",
   "execution_count": 40,
   "metadata": {},
   "outputs": [],
   "source": [
    "# df_energy.to_csv('F77_cadwell.csv', index=False)"
   ]
  },
  {
   "cell_type": "code",
   "execution_count": 42,
   "metadata": {},
   "outputs": [
    {
     "name": "stdout",
     "output_type": "stream",
     "text": [
      "total_time_s  :  108\n",
      "dist_km  :  0.66\n",
      "max_speed_kmph  :  42.0\n",
      "avg_speed_kmph  :  21.73\n",
      "max_positive_accn_mps2  :  0.65\n",
      "max_negative_accn_mps2  :  -0.62\n",
      "rms_positive_accn_mps2  :  0.47\n",
      "rms_negative_accn_mps2  :  0.46\n",
      "avg_m_power_kW  :  0.48\n",
      "avg_e_power_kW  :  1.09\n",
      "max_m_power_kW  :  2.12\n",
      "max_e_power_kW  :  2.59\n",
      "total_m_energy_Wh  :  14.67\n",
      "total_e_energy_Wh  :  21.78\n",
      "m_Wh/km  :  22.29\n",
      "e_Wh/km  :  33.1\n",
      "mech_eff  :  81.0\n",
      "ele_eff  :  67.34\n",
      "sys_eff  :  54.55\n",
      "pack_voltage_V  :  52\n",
      "max_pack_current_A  :  49.77\n",
      "min_pack_current_A  :  0.0\n",
      "pack_internal_resistance_ohms  :  0.01\n"
     ]
    }
   ],
   "source": [
    "dc_stats = stats(df_energy, vehicle_param)\n",
    "for key in dc_stats:\n",
    "    print(key, ' : ', dc_stats[key])"
   ]
  },
  {
   "cell_type": "markdown",
   "metadata": {},
   "source": [
    "## Range Test Estimation "
   ]
  },
  {
   "cell_type": "code",
   "execution_count": 43,
   "metadata": {},
   "outputs": [],
   "source": [
    "batt_cap = 10300 #wh"
   ]
  },
  {
   "cell_type": "code",
   "execution_count": 44,
   "metadata": {},
   "outputs": [],
   "source": [
    "# For High Range Vehicle, (1st 9 values of speed and then 9 values of torque percentage), Max torque value is 100Nm  and the percentages are wrt max torque\n",
    "# Glide Mode = 0,500,1000,1500,2000,2500,3000,5000,7000,45,45,39,34,29,24,19,2,1\n",
    "# Combat Mode = 0,979,1957,2936,3915,4893,5627,6950,7000,72,72,54,42,34,28,23,14,1\n",
    "# Ballistic Mode = 0,1000,2000,2500,3000,4000,5000,6950,7000,86,86,86,86,86,86,86,27,1"
   ]
  },
  {
   "cell_type": "code",
   "execution_count": 45,
   "metadata": {},
   "outputs": [],
   "source": [
    "trq_g = [47.4,47.4,40.2,34.4,29.6,25,20,16,10.8,5.2,0.2]\n",
    "# trq_g = [round(x * 1.10, 3) for x in trq_g]\n",
    "trq_c = [76.8,76.8,75.4,65.4,55.8,49.2,43.4,39.4,34.6,30.6,26.8,23.6,19.8,16.6,15.2,1.2]\n",
    "# trq_c = [round(x * 1.10, 3) for x in trq_c]\n",
    "trq_b = [93,93,92.6,92.4,91.8,87.6,69,58.2,50.1,43.4,38.2,33.8,30.4,26.8,25,0.8]\n",
    "# trq_b = [round(x * 1.10, 3) for x in trq_b]\n",
    "# print(trq_g, trq_c, trq_b)"
   ]
  },
  {
   "cell_type": "code",
   "execution_count": 46,
   "metadata": {},
   "outputs": [],
   "source": [
    "target_torque = df_total_itorque_mtr.drive_itorque_mtr\n",
    "target_rpm = df_total_itorque_mtr.rpm_mtr\n",
    "\n",
    "# Data for all drive modes\n",
    "drive_modes = {\n",
    "    \"glide\": {\"rpm\": [0,504,1048,1542,2016,2521,3015,3517,4010,4505,4950], \"trq\": trq_g},\n",
    "    \"combat\": {\"rpm\": [0,500,998,1485,1980,2489,3050,3537,4039,4535,5022,5528,6018,6511,6765,6980], \"trq\": trq_c},\n",
    "    \"ballistic\": {\"rpm\": [0,506, 1010, 1506, 2001,2494,2974,3471,3975,4478,4980,5479,5977,6475,6725,6980], \"trq\": trq_b}\n",
    "}\n",
    "# print(drive_modes)\n",
    "# Add a 5% buffer to the RPM values for all drive modes\n",
    "buffer_percentage = 18"
   ]
  },
  {
   "cell_type": "code",
   "execution_count": 47,
   "metadata": {},
   "outputs": [
    {
     "data": {
      "text/plain": [
       "<matplotlib.legend.Legend at 0x1ca1f722520>"
      ]
     },
     "execution_count": 47,
     "metadata": {},
     "output_type": "execute_result"
    },
    {
     "data": {
      "image/png": "[encoded data removed]",
      "text/plain": [
       "<Figure size 2000x400 with 1 Axes>"
      ]
     },
     "metadata": {},
     "output_type": "display_data"
    }
   ],
   "source": [
    "rpm = sevcon_eff_map.index.to_numpy().astype(float)\n",
    "torque = sevcon_eff_map.columns.to_numpy().astype(float)\n",
    "\n",
    "[X, Y] = np.meshgrid(rpm, torque)  \n",
    "Z = total_mtr_eff_arr\n",
    "\n",
    "fig, ax = plt.subplots(1,1)\n",
    "# cs = ax.contourf(X, Y, Z)\n",
    "# cbar = fig.colorbar(cs)\n",
    "# ax = sns.scatterplot(data=df_total_itorque_mtr, x=\"rpm_mtr\", y=\"drive_itorque_mtr\", color = \"blue\", linewidth = 1, marker= \"x\")\n",
    "ax = sns.scatterplot(x=target_rpm, y=target_torque, color = \"blue\", linewidth = 1, marker= \"x\")\n",
    "# for drive_mode, data in buffered_drive_modes.items():\n",
    "#     ax.plot(data['rpm'], data['trq'], label=drive_mode, marker='o')\n",
    "for drive_mode, data in drive_modes.items():\n",
    "    # ax = sns.lineplot(x=data['rpm'], y=data['trq'], label=drive_mode, marker='o',  err_style=\"bars\", errorbar=(\"sd\"))\n",
    "    xerr = buffer_percentage/100 * np.array(data['rpm'])  # 5% error on x-axis\n",
    "    ax.plot(data['rpm'], data['trq'], label=drive_mode, marker='o')\n",
    "    ax.fill_betweenx(data['trq'], np.array(data['rpm']) - xerr, np.array(data['rpm']) + xerr, alpha=0.5)\n",
    "\n",
    "ax.set_xlabel(\"RPM\")\n",
    "ax.set_ylabel(\"Torque\")\n",
    "\n",
    "ax.legend()\n",
    "# ax.set_xlim(0,max(df_total_itorque_mtr[\"rpm_mtr\"])+100)\n",
    "# ax.set_ylim(0,max(df_total_itorque_mtr[\"drive_itorque_mtr\"])+5)\n",
    "# fig.show()"
   ]
  },
  {
   "cell_type": "code",
   "execution_count": 48,
   "metadata": {},
   "outputs": [
    {
     "name": "stdout",
     "output_type": "stream",
     "text": [
      "For Mode check:\n",
      "    Mode Checks: {'glide': True, 'combat': True, 'ballistic': True}\n",
      "    Battery Utilisation: 100 %\n",
      "    Mechanical Wh/km: 22.29\n",
      "    Electrical Wh/km: 33.1\n",
      "    Range Covered: 311.18 km\n"
     ]
    }
   ],
   "source": [
    "buffered_drive_modes = {}\n",
    "\n",
    "for mode, data in drive_modes.items():\n",
    "    buffered_rpm = [rpm * (1 + buffer_percentage / 100) for rpm in data['rpm']]\n",
    "    buffered_drive_modes[mode] = {'rpm': buffered_rpm, 'trq': data['trq']}\n",
    "    \n",
    "# Interpolate to find the max torque for each target RPM in each drive mode\n",
    "max_torques = {\n",
    "    mode: np.interp(target_rpm, data['rpm'], data['trq'])\n",
    "    for mode, data in buffered_drive_modes.items()\n",
    "}\n",
    "\n",
    "# batt_util if given torque and RPM arrays are under the max torques\n",
    "overall_checks = {\n",
    "    mode: np.all(target_torque <= max_torque_at_target_rpm)\n",
    "    for mode, max_torque_at_target_rpm in max_torques.items()\n",
    "}\n",
    "\n",
    "# Assign batt_util variable based on conditions\n",
    "batt_util = 0\n",
    "if overall_checks[\"glide\"] and overall_checks[\"combat\"] and overall_checks[\"ballistic\"]:\n",
    "    batt_util = 1\n",
    "elif overall_checks[\"combat\"] and overall_checks[\"ballistic\"]:\n",
    "    batt_util = .8\n",
    "elif overall_checks[\"ballistic\"]:\n",
    "    batt_util = .7\n",
    "\n",
    "# Output the results\n",
    "print(f\"For Mode check:\")\n",
    "print(f\"    Mode Checks: {overall_checks}\")\n",
    "print(f\"    Battery Utilisation: {batt_util*100} %\")\n",
    "print(f\"    Mechanical Wh/km: {dc_stats['m_Wh/km']}\")\n",
    "print(f\"    Electrical Wh/km: {dc_stats['e_Wh/km']}\")\n",
    "# print(f\"    Efficiency: {dc_stats['wh/km_eff']} %\")\n",
    "print(f\"    Range Covered: {np.round(batt_cap*batt_util/dc_stats['e_Wh/km'],2)} km\")"
   ]
  },
  {
   "cell_type": "code",
   "execution_count": 389,
   "metadata": {},
   "outputs": [],
   "source": [
    "mode_max_trq = pd.DataFrame()\n",
    "for mode, data in max_torques.items():\n",
    "    mode_max_trq[f'{mode}_trq_max'] = max_torques[f'{mode}']\n",
    "\n",
    "# print(mode_max_trq)"
   ]
  },
  {
   "cell_type": "code",
   "execution_count": 126,
   "metadata": {},
   "outputs": [
    {
     "data": {
      "text/html": [
       "<div>\n",
       "<style scoped>\n",
       "    .dataframe tbody tr th:only-of-type {\n",
       "        vertical-align: middle;\n",
       "    }\n",
       "\n",
       "    .dataframe tbody tr th {\n",
       "        vertical-align: top;\n",
       "    }\n",
       "\n",
       "    .dataframe thead th {\n",
       "        text-align: right;\n",
       "    }\n",
       "</style>\n",
       "<table border=\"1\" class=\"dataframe\">\n",
       "  <thead>\n",
       "    <tr style=\"text-align: right;\">\n",
       "      <th></th>\n",
       "      <th>drive_itorque_mtr</th>\n",
       "      <th>total_itorque_mtr</th>\n",
       "      <th>rpm_mtr</th>\n",
       "      <th>total_mtr_system_eff_dc</th>\n",
       "      <th>speed_kmph</th>\n",
       "      <th>time_s</th>\n",
       "    </tr>\n",
       "  </thead>\n",
       "  <tbody>\n",
       "  </tbody>\n",
       "</table>\n",
       "</div>"
      ],
      "text/plain": [
       "Empty DataFrame\n",
       "Columns: [drive_itorque_mtr, total_itorque_mtr, rpm_mtr, total_mtr_system_eff_dc, speed_kmph, time_s]\n",
       "Index: []"
      ]
     },
     "execution_count": 126,
     "metadata": {},
     "output_type": "execute_result"
    }
   ],
   "source": [
    "df_total_itorque_mtr[df_total_itorque_mtr['drive_itorque_mtr'] > mode_max_trq['combat_trq_max']]"
   ]
  },
  {
   "cell_type": "code",
   "execution_count": 127,
   "metadata": {},
   "outputs": [
    {
     "data": {
      "image/png": "[encoded data removed]",
      "text/plain": [
       "<Figure size 2000x400 with 1 Axes>"
      ]
     },
     "metadata": {},
     "output_type": "display_data"
    }
   ],
   "source": [
    "# Plotting\n",
    "fig, ax = plt.subplots()\n",
    "\n",
    "# Plot Column1 as a line\n",
    "ax = sns.lineplot(data=df_total_itorque_mtr, x=\"time_s\", y=\"speed_kmph\", color = \"black\", label = \"DC\")\n",
    "\n",
    "colors = ['green', 'blue', 'red']\n",
    "\n",
    "for i, col in enumerate(mode_max_trq.columns):\n",
    "        ax.fill_between(df_total_itorque_mtr['time_s'],df_total_itorque_mtr['speed_kmph'], df_total_itorque_mtr['speed_kmph']+20, where=df_total_itorque_mtr['drive_itorque_mtr'] > mode_max_trq[col], color=colors[i], alpha=0.3, label=f'{col}')\n",
    "\n",
    "# # Add legend\n",
    "ax.set_title(\"UVDC\")\n",
    "ax.legend()\n",
    "ax.grid()\n",
    "# # Show the plot\n",
    "# plt.show()\n",
    "\n",
    "# px.line(df_total_itorque_mtr, x=\"time_s\", y=\"speed_kmph\", color= df_total_itorque_mtr['drive_itorque_mtr'] > mode_max_trq.glide_trq_max)\n"
   ]
  },
  {
   "cell_type": "markdown",
   "metadata": {},
   "source": [
    "## voltage and current curves "
   ]
  },
  {
   "cell_type": "code",
   "execution_count": null,
   "metadata": {},
   "outputs": [],
   "source": []
  }
 ],
 "metadata": {
  "kernelspec": {
   "display_name": "Python 3",
   "language": "python",
   "name": "python3"
  },
  "language_info": {
   "codemirror_mode": {
    "name": "ipython",
    "version": 3
   },
   "file_extension": ".py",
   "mimetype": "text/x-python",
   "name": "python",
   "nbconvert_exporter": "python",
   "pygments_lexer": "ipython3",
   "version": "3.9.13"
  },
  "orig_nbformat": 4
 },
 "nbformat": 4,
 "nbformat_minor": 2
}
